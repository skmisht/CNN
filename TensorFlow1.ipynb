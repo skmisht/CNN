{
  "nbformat": 4,
  "nbformat_minor": 0,
  "metadata": {
    "colab": {
      "name": "TensorFlow1.ipynb",
      "provenance": [],
      "collapsed_sections": [],
      "mount_file_id": "17eLY-8LZK6Duvm9v4MrYigB4XnaP59j2",
      "authorship_tag": "ABX9TyO4XNMkr9rpLCnlmOHekI2M",
      "include_colab_link": true
    },
    "kernelspec": {
      "name": "python3",
      "display_name": "Python 3"
    }
  },
  "cells": [
    {
      "cell_type": "markdown",
      "metadata": {
        "id": "view-in-github",
        "colab_type": "text"
      },
      "source": [
        "<a href=\"https://colab.research.google.com/github/skmisht/CNN/blob/main/TensorFlow1.ipynb\" target=\"_parent\"><img src=\"https://colab.research.google.com/assets/colab-badge.svg\" alt=\"Open In Colab\"/></a>"
      ]
    },
    {
      "cell_type": "code",
      "metadata": {
        "colab": {
          "base_uri": "https://localhost:8080/",
          "height": 35
        },
        "id": "839F0c2C5mTO",
        "outputId": "b58955b1-be3a-4f73-b0e2-3da0591ab0a5"
      },
      "source": [
        "import pandas as pd\r\n",
        "training_truth_data = pd.read_csv('/content/drive/MyDrive/Datasets/CSV/ISIC-2017_Training_Part3_GroundTruth.csv') \r\n",
        "testing_truth_data = pd.read_csv('/content/drive/MyDrive/Datasets/CSV/ISIC-2017_Test_v2_Part3_GroundTruth.csv') \r\n",
        "validation_truth_data = pd.read_csv('/content/drive/MyDrive/Datasets/CSV/ISIC-2017_Validation_Part3_GroundTruth.csv')\r\n",
        "\r\n",
        "training_metadata = pd.read_csv('/content/drive/MyDrive/Datasets/Image_folder/ISIC-2017_Training_Data/ISIC-2017_Training_Data_metadata.csv')\r\n",
        "testing_metadata = pd.read_csv('/content/drive/MyDrive/Datasets/Image_folder/ISIC-2017_Test_v2_Data/ISIC-2017_Test_v2_Data_metadata.csv')\r\n",
        "validation_metadata = pd.read_csv('/content/drive/MyDrive/Datasets/Image_folder/ISIC-2017_Validation_Data/ISIC-2017_Validation_Data_metadata.csv')\r\n",
        "\r\n",
        "path_training_images ='/content/drive/MyDrive/Datasets/Image_folder/ISIC-2017_Training_Data'\r\n",
        "path_testing_images ='/content/drive/MyDrive/Datasets/Image_folder/ISIC-2017_Test_v2_Data'\r\n",
        "path_validation_images = '/content/drive/MyDrive/Datasets/Image_folder/ISIC-2017_Validation_Data'\r\n",
        "\r\n",
        "#add new column to truth_data with the path to corresponding image\r\n",
        "def prepare_data(truth_data, metadata, image_path):\r\n",
        "  path_to_images_array = []\r\n",
        "  for x in truth_data.values:\r\n",
        "    path_to_image = image_path+str(x[0])+'.jpg'\r\n",
        "    path_to_images_array.append(str(path_to_image))\r\n",
        "  #add path to image to the truth data frame\r\n",
        "  truth_data['path_to_image'] = path_to_images_array\r\n",
        "  #return merge truth data with metadata, join on the image_id's\r\n",
        "  return pd.merge(truth_data, metadata, left_on='image_id', right_on='image_id', how='left')\r\n",
        "\r\n",
        "\r\n",
        "training_data = prepare_data(training_truth_data, training_metadata, path_training_images)\r\n",
        "testing_data = prepare_data(testing_truth_data, testing_metadata, path_testing_images)\r\n",
        "validation_data = prepare_data(validation_truth_data, validation_metadata, path_validation_images)\r\n",
        "\r\n",
        "pd.set_option(\"display.max_rows\", None, \"display.max_columns\", None)\r\n",
        "pd.set_option('display.max_colwidth', None)\r\n",
        "#print(training_data.head())\r\n",
        "path_training_images\r\n"
      ],
      "execution_count": 24,
      "outputs": [
        {
          "output_type": "execute_result",
          "data": {
            "application/vnd.google.colaboratory.intrinsic+json": {
              "type": "string"
            },
            "text/plain": [
              "'/content/drive/MyDrive/Datasets/Image_folder/ISIC-2017_Training_Data'"
            ]
          },
          "metadata": {
            "tags": []
          },
          "execution_count": 24
        }
      ]
    },
    {
      "cell_type": "markdown",
      "metadata": {
        "id": "-VlCBEbxP2Ho"
      },
      "source": [
        "**Display images from training data**"
      ]
    },
    {
      "cell_type": "code",
      "metadata": {
        "colab": {
          "base_uri": "https://localhost:8080/",
          "height": 601
        },
        "id": "TspzmsmmPmZy",
        "outputId": "84a873e4-6047-4818-f7dd-74e2e201b3cc"
      },
      "source": [
        "import matplotlib.pyplot as plt\r\n",
        "import matplotlib.image as mpimg\r\n",
        "nrows, ncols = 4, 4\r\n",
        "pic_index=0\r\n",
        "\r\n",
        "# Display a batch of 8 training and 8 test images, also we can rerun the cell to see a fresh batch at each time\r\n",
        "# set up matplotlib fig, and size to fit our 4*4 images\r\n",
        "fig = plt.gcf()\r\n",
        "fig.set_size_inches(ncols*4, nrows*4)\r\n",
        "\r\n",
        "# increment the pic_index upto 8\r\n",
        "pic_index += 8\r\n",
        "\r\n",
        "# listing images from training and and test data\r\n",
        "training_list_of_images = training_data['path_to_image'].to_list()\r\n",
        "test_list_of_images = testing_data['path_to_image'].to_list()\r\n",
        "\r\n",
        "# iterate over the training and test images\r\n",
        "train_melanoma_image = [name for name in training_list_of_images[pic_index-8:pic_index]]\r\n",
        "test_melanoma_image = [name for name in test_list_of_images[pic_index-8:pic_index]]\r\n",
        "\r\n",
        "# enumerting over the train and test images\r\n",
        "for i, image_path in enumerate(train_melanoma_image + test_melanoma_image):\r\n",
        "  # set up the subplot - subplot indices start at 1\r\n",
        "  sp = plt.subplot(nrows, ncols, i + 1)\r\n",
        "  # do not display axis or gridline\r\n",
        "  sp.axis('off')\r\n",
        "  img = mpimg.imread(image_path)\r\n",
        "  plt.imshow(img)\r\n",
        "\r\n",
        "# display images\r\n",
        "plt.show()\r\n",
        "\r\n",
        " "
      ],
      "execution_count": 23,
      "outputs": [
        {
          "output_type": "error",
          "ename": "FileNotFoundError",
          "evalue": "ignored",
          "traceback": [
            "\u001b[0;31m---------------------------------------------------------------------------\u001b[0m",
            "\u001b[0;31mFileNotFoundError\u001b[0m                         Traceback (most recent call last)",
            "\u001b[0;32m<ipython-input-23-9d68295606fe>\u001b[0m in \u001b[0;36m<module>\u001b[0;34m()\u001b[0m\n\u001b[1;32m     26\u001b[0m   \u001b[0;31m# do not display axis or gridline\u001b[0m\u001b[0;34m\u001b[0m\u001b[0;34m\u001b[0m\u001b[0;34m\u001b[0m\u001b[0m\n\u001b[1;32m     27\u001b[0m   \u001b[0msp\u001b[0m\u001b[0;34m.\u001b[0m\u001b[0maxis\u001b[0m\u001b[0;34m(\u001b[0m\u001b[0;34m'off'\u001b[0m\u001b[0;34m)\u001b[0m\u001b[0;34m\u001b[0m\u001b[0;34m\u001b[0m\u001b[0m\n\u001b[0;32m---> 28\u001b[0;31m   \u001b[0mimg\u001b[0m \u001b[0;34m=\u001b[0m \u001b[0mmpimg\u001b[0m\u001b[0;34m.\u001b[0m\u001b[0mimread\u001b[0m\u001b[0;34m(\u001b[0m\u001b[0mimage_path\u001b[0m\u001b[0;34m)\u001b[0m\u001b[0;34m\u001b[0m\u001b[0;34m\u001b[0m\u001b[0m\n\u001b[0m\u001b[1;32m     29\u001b[0m   \u001b[0mplt\u001b[0m\u001b[0;34m.\u001b[0m\u001b[0mimshow\u001b[0m\u001b[0;34m(\u001b[0m\u001b[0mimg\u001b[0m\u001b[0;34m)\u001b[0m\u001b[0;34m\u001b[0m\u001b[0;34m\u001b[0m\u001b[0m\n\u001b[1;32m     30\u001b[0m \u001b[0;34m\u001b[0m\u001b[0m\n",
            "\u001b[0;32m/usr/local/lib/python3.6/dist-packages/matplotlib/image.py\u001b[0m in \u001b[0;36mimread\u001b[0;34m(fname, format)\u001b[0m\n\u001b[1;32m   1462\u001b[0m             raise ValueError('Only know how to handle PNG; with Pillow '\n\u001b[1;32m   1463\u001b[0m                              'installed, Matplotlib can handle more images')\n\u001b[0;32m-> 1464\u001b[0;31m         \u001b[0;32mwith\u001b[0m \u001b[0mImage\u001b[0m\u001b[0;34m.\u001b[0m\u001b[0mopen\u001b[0m\u001b[0;34m(\u001b[0m\u001b[0mfname\u001b[0m\u001b[0;34m)\u001b[0m \u001b[0;32mas\u001b[0m \u001b[0mimage\u001b[0m\u001b[0;34m:\u001b[0m\u001b[0;34m\u001b[0m\u001b[0;34m\u001b[0m\u001b[0m\n\u001b[0m\u001b[1;32m   1465\u001b[0m             \u001b[0;32mreturn\u001b[0m \u001b[0mpil_to_array\u001b[0m\u001b[0;34m(\u001b[0m\u001b[0mimage\u001b[0m\u001b[0;34m)\u001b[0m\u001b[0;34m\u001b[0m\u001b[0;34m\u001b[0m\u001b[0m\n\u001b[1;32m   1466\u001b[0m     \u001b[0;32mfrom\u001b[0m \u001b[0mmatplotlib\u001b[0m \u001b[0;32mimport\u001b[0m \u001b[0m_png\u001b[0m\u001b[0;34m\u001b[0m\u001b[0;34m\u001b[0m\u001b[0m\n",
            "\u001b[0;32m/usr/local/lib/python3.6/dist-packages/PIL/Image.py\u001b[0m in \u001b[0;36mopen\u001b[0;34m(fp, mode)\u001b[0m\n\u001b[1;32m   2807\u001b[0m \u001b[0;34m\u001b[0m\u001b[0m\n\u001b[1;32m   2808\u001b[0m     \u001b[0;32mif\u001b[0m \u001b[0mfilename\u001b[0m\u001b[0;34m:\u001b[0m\u001b[0;34m\u001b[0m\u001b[0;34m\u001b[0m\u001b[0m\n\u001b[0;32m-> 2809\u001b[0;31m         \u001b[0mfp\u001b[0m \u001b[0;34m=\u001b[0m \u001b[0mbuiltins\u001b[0m\u001b[0;34m.\u001b[0m\u001b[0mopen\u001b[0m\u001b[0;34m(\u001b[0m\u001b[0mfilename\u001b[0m\u001b[0;34m,\u001b[0m \u001b[0;34m\"rb\"\u001b[0m\u001b[0;34m)\u001b[0m\u001b[0;34m\u001b[0m\u001b[0;34m\u001b[0m\u001b[0m\n\u001b[0m\u001b[1;32m   2810\u001b[0m         \u001b[0mexclusive_fp\u001b[0m \u001b[0;34m=\u001b[0m \u001b[0;32mTrue\u001b[0m\u001b[0;34m\u001b[0m\u001b[0;34m\u001b[0m\u001b[0m\n\u001b[1;32m   2811\u001b[0m \u001b[0;34m\u001b[0m\u001b[0m\n",
            "\u001b[0;31mFileNotFoundError\u001b[0m: [Errno 2] No such file or directory: '/content/drive/MyDrive/Datasets/Image_folder/ISIC-2017_Training_DataISIC_0000000.jpg'"
          ]
        },
        {
          "output_type": "display_data",
          "data": {
            "image/png": "[encoded data removed]",
            "text/plain": [
              "<Figure size 1152x1152 with 1 Axes>"
            ]
          },
          "metadata": {
            "tags": [],
            "needs_background": "light"
          }
        }
      ]
    }
  ]
}