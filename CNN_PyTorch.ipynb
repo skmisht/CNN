{
  "nbformat": 4,
  "nbformat_minor": 0,
  "metadata": {
    "colab": {
      "name": "CNN_PyTorch.ipynb",
      "provenance": [],
      "toc_visible": true,
      "authorship_tag": "ABX9TyNRvRnAdLgal1CtALzrjNg1",
      "include_colab_link": true
    },
    "kernelspec": {
      "name": "python3",
      "display_name": "Python 3"
    },
    "accelerator": "GPU"
  },
  "cells": [
    {
      "cell_type": "markdown",
      "metadata": {
        "id": "view-in-github",
        "colab_type": "text"
      },
      "source": [
        "<a href=\"https://colab.research.google.com/github/skmisht/CNN/blob/main/CNN_PyTorch.ipynb\" target=\"_parent\"><img src=\"https://colab.research.google.com/assets/colab-badge.svg\" alt=\"Open In Colab\"/></a>"
      ]
    },
    {
      "cell_type": "markdown",
      "metadata": {
        "id": "bh7Wik-3D0R6"
      },
      "source": [
        "# Melanoma detection - PyTorch "
      ]
    },
    {
      "cell_type": "code",
      "metadata": {
        "id": "UPZxs6Q0EC91",
        "colab": {
          "base_uri": "https://localhost:8080/"
        },
        "outputId": "f917e47d-e94d-44b2-804b-7cdd2ce5bdad"
      },
      "source": [
        "import os\r\n",
        "import csv \r\n",
        "import zipfile\r\n",
        "from google.colab import files\r\n",
        "\r\n",
        "import numpy as np\r\n",
        "import pandas as pd\r\n",
        "import matplotlib.pyplot as plt\r\n",
        "import matplotlib.image as mpimg\r\n",
        "\r\n",
        "# Torch modules\r\n",
        "import torch\r\n",
        "print(\"Current Torch version: \", torch.__version__)\r\n",
        "# to install if there is no latest version of torch\r\n",
        "# !pip install -q torch==1.0.0 \r\n",
        "import torchvision\r\n",
        "from torchvision.transforms import transforms"
      ],
      "execution_count": 48,
      "outputs": [
        {
          "output_type": "stream",
          "text": [
            "Current Torch version:  1.7.0+cu101\n"
          ],
          "name": "stdout"
        }
      ]
    },
    {
      "cell_type": "code",
      "metadata": {
        "id": "QKltfGoJZAm-",
        "colab": {
          "base_uri": "https://localhost:8080/",
          "height": 35
        },
        "outputId": "f273d2cc-45c6-4b7f-d073-2e0c8c20743a"
      },
      "source": [
        "# test if the notebook is running on GPU\r\n",
        "import tensorflow as tf\r\n",
        "tf.test.gpu_device_name()"
      ],
      "execution_count": 49,
      "outputs": [
        {
          "output_type": "execute_result",
          "data": {
            "application/vnd.google.colaboratory.intrinsic+json": {
              "type": "string"
            },
            "text/plain": [
              "'/device:GPU:0'"
            ]
          },
          "metadata": {
            "tags": []
          },
          "execution_count": 49
        }
      ]
    },
    {
      "cell_type": "code",
      "metadata": {
        "colab": {
          "base_uri": "https://localhost:8080/"
        },
        "id": "15s8LnlsPKgg",
        "outputId": "e2c489a9-1248-4ce1-f273-d75ad7886579"
      },
      "source": [
        "# accessing data files from shared directory \r\n",
        "import os\r\n",
        "from google.colab import drive\r\n",
        "drive.mount('/content/drive', force_remount=True)\r\n",
        "os.chdir(\"/content/drive/My Drive/isic-challenge-2017\")"
      ],
      "execution_count": 50,
      "outputs": [
        {
          "output_type": "stream",
          "text": [
            "Mounted at /content/drive\n"
          ],
          "name": "stdout"
        }
      ]
    },
    {
      "cell_type": "code",
      "metadata": {
        "colab": {
          "base_uri": "https://localhost:8080/"
        },
        "id": "N2XaJfvN63nm",
        "outputId": "0e7bc345-8a81-4beb-f4b3-599d41b2da29"
      },
      "source": [
        "# list of files in isic-challenge folder\r\n",
        "print(os.listdir('/content/drive/My Drive/isic-challenge-2017'))"
      ],
      "execution_count": 51,
      "outputs": [
        {
          "output_type": "stream",
          "text": [
            "['ISIC-2017_Training_Part3_GroundTruth.csv', 'ISIC-2017_Validation_Part3_GroundTruth.csv', 'ISIC-2017_Test_v2_Part3_GroundTruth.csv', 'ISIC-2017_Test_v2_Data', 'ISIC-2017_Training_Data', 'ISIC-2017_Validation_Data']\n"
          ],
          "name": "stdout"
        }
      ]
    },
    {
      "cell_type": "code",
      "metadata": {
        "id": "UEuVG0uGPyQu",
        "colab": {
          "base_uri": "https://localhost:8080/",
          "height": 502
        },
        "outputId": "5fea74f4-0c9c-4684-e184-6352ab76984a"
      },
      "source": [
        "# assigning the variable to the training and also for the csv file\r\n",
        "training_images = '/content/drive/MyDrive/isic-challenge-2017/ISIC-2017_Training_Data/ISIC-2017_Training_Data'\r\n",
        "# first 10 images from training\r\n",
        "training_images_names = os.listdir(training_images)\r\n",
        "print(training_images_names[:10])\r\n",
        "trainign_groundTruth_csv = pd.read_csv('/content/drive/MyDrive/isic-challenge-2017/ISIC-2017_Training_Part3_GroundTruth.csv')\r\n",
        "print(trainign_groundTruth_csv.head(5))\r\n",
        "\r\n",
        "print() # blank line\r\n",
        "# assigning the variable to the testing and also for the csv file\r\n",
        "testing_images = '/content/drive/MyDrive/isic-challenge-2017/ISIC-2017_Test_v2_Data/ISIC-2017_Test_v2_Data'\r\n",
        "testing_images_names = os.listdir(testing_images)\r\n",
        "print(testing_images_names[:10])\r\n",
        "test_groundTruth_csv = pd.read_csv('/content/drive/MyDrive/isic-challenge-2017/ISIC-2017_Test_v2_Part3_GroundTruth.csv')\r\n",
        "print(test_groundTruth_csv.head(5))\r\n",
        "\r\n",
        "\r\n",
        "print() # blank line\r\n",
        "# Meta csv files from training & testing\r\n",
        "training_meta_file = '/content/drive/MyDrive/isic-challenge-2017/ISIC-2017_Training_Data/ISIC-2017_Training_Data/ISIC-2017_Training_Data_metadata.csv'\r\n",
        "testing_meta_file = '/content/drive/MyDrive/isic-challenge-2017/ISIC-2017_Test_v2_Data/ISIC-2017_Test_v2_Data/ISIC-2017_Test_v2_Data_metadata.csv' \r\n",
        "# display training meta data \r\n",
        "train_meta = pd.read_csv(training_meta_file, delimiter=',')\r\n",
        "train_meta.head()"
      ],
      "execution_count": 62,
      "outputs": [
        {
          "output_type": "stream",
          "text": [
            "['ISIC_0013474.jpg', 'ISIC_0013474_superpixels.png', 'ISIC_0013480.jpg', 'ISIC_0013480_superpixels.png', 'ISIC_0013490_superpixels.png', 'ISIC_0013492_superpixels.png', 'ISIC_0013486.jpg', 'ISIC_0013489.jpg', 'ISIC_0013486_superpixels.png', 'ISIC_0013487.jpg']\n",
            "       image_id  melanoma  seborrheic_keratosis\n",
            "0  ISIC_0000000       0.0                   0.0\n",
            "1  ISIC_0000001       0.0                   0.0\n",
            "2  ISIC_0000002       1.0                   0.0\n",
            "3  ISIC_0000003       0.0                   0.0\n",
            "4  ISIC_0000004       1.0                   0.0\n",
            "\n",
            "['ISIC_0013414.jpg', 'ISIC_0013414_superpixels.png', 'ISIC_0013455_superpixels.png', 'ISIC_0013416.jpg', 'ISIC_0013455.jpg', 'ISIC_0013416_superpixels.png', 'ISIC_0013457_superpixels.png', 'ISIC_0013457.jpg', 'ISIC_0013459.jpg', 'ISIC_0013465_superpixels.png']\n",
            "       image_id  melanoma  seborrheic_keratosis\n",
            "0  ISIC_0012086       0.0                   1.0\n",
            "1  ISIC_0012092       0.0                   0.0\n",
            "2  ISIC_0012095       0.0                   0.0\n",
            "3  ISIC_0012134       0.0                   1.0\n",
            "4  ISIC_0012136       0.0                   1.0\n",
            "\n"
          ],
          "name": "stdout"
        },
        {
          "output_type": "execute_result",
          "data": {
            "text/html": [
              "<div>\n",
              "<style scoped>\n",
              "    .dataframe tbody tr th:only-of-type {\n",
              "        vertical-align: middle;\n",
              "    }\n",
              "\n",
              "    .dataframe tbody tr th {\n",
              "        vertical-align: top;\n",
              "    }\n",
              "\n",
              "    .dataframe thead th {\n",
              "        text-align: right;\n",
              "    }\n",
              "</style>\n",
              "<table border=\"1\" class=\"dataframe\">\n",
              "  <thead>\n",
              "    <tr style=\"text-align: right;\">\n",
              "      <th></th>\n",
              "      <th>image_id</th>\n",
              "      <th>age_approximate</th>\n",
              "      <th>sex</th>\n",
              "    </tr>\n",
              "  </thead>\n",
              "  <tbody>\n",
              "    <tr>\n",
              "      <th>0</th>\n",
              "      <td>ISIC_0000000</td>\n",
              "      <td>55</td>\n",
              "      <td>female</td>\n",
              "    </tr>\n",
              "    <tr>\n",
              "      <th>1</th>\n",
              "      <td>ISIC_0000001</td>\n",
              "      <td>30</td>\n",
              "      <td>female</td>\n",
              "    </tr>\n",
              "    <tr>\n",
              "      <th>2</th>\n",
              "      <td>ISIC_0000002</td>\n",
              "      <td>60</td>\n",
              "      <td>female</td>\n",
              "    </tr>\n",
              "    <tr>\n",
              "      <th>3</th>\n",
              "      <td>ISIC_0000003</td>\n",
              "      <td>30</td>\n",
              "      <td>male</td>\n",
              "    </tr>\n",
              "    <tr>\n",
              "      <th>4</th>\n",
              "      <td>ISIC_0000004</td>\n",
              "      <td>80</td>\n",
              "      <td>male</td>\n",
              "    </tr>\n",
              "  </tbody>\n",
              "</table>\n",
              "</div>"
            ],
            "text/plain": [
              "       image_id age_approximate     sex\n",
              "0  ISIC_0000000              55  female\n",
              "1  ISIC_0000001              30  female\n",
              "2  ISIC_0000002              60  female\n",
              "3  ISIC_0000003              30    male\n",
              "4  ISIC_0000004              80    male"
            ]
          },
          "metadata": {
            "tags": []
          },
          "execution_count": 62
        }
      ]
    },
    {
      "cell_type": "code",
      "metadata": {
        "colab": {
          "base_uri": "https://localhost:8080/"
        },
        "id": "ld6gPjCP--GB",
        "outputId": "b04ca997-79ea-4204-ddd3-a9df74269c68"
      },
      "source": [
        "# total images in training and testing directory\r\n",
        "print(\"Total images in Training: \", len(training_images_names))\r\n",
        "print(\"Total images in Testing: \", len(testing_images_names))"
      ],
      "execution_count": 60,
      "outputs": [
        {
          "output_type": "stream",
          "text": [
            "Total images in Training:  4001\n",
            "Total images in Testing:  1201\n"
          ],
          "name": "stdout"
        }
      ]
    },
    {
      "cell_type": "markdown",
      "metadata": {
        "id": "oWM3P-sjCmuX"
      },
      "source": [
        "# Joining Image to the Ground truth data"
      ]
    },
    {
      "cell_type": "code",
      "metadata": {
        "id": "cj2eMuePwCp4"
      },
      "source": [
        ""
      ],
      "execution_count": null,
      "outputs": []
    },
    {
      "cell_type": "code",
      "metadata": {
        "id": "tBQMLHuYxaWr"
      },
      "source": [
        ""
      ],
      "execution_count": null,
      "outputs": []
    },
    {
      "cell_type": "code",
      "metadata": {
        "id": "Rc9D24z3wCkb"
      },
      "source": [
        ""
      ],
      "execution_count": null,
      "outputs": []
    },
    {
      "cell_type": "code",
      "metadata": {
        "id": "ytQlBeX0wCgn"
      },
      "source": [
        ""
      ],
      "execution_count": null,
      "outputs": []
    },
    {
      "cell_type": "code",
      "metadata": {
        "id": "NxBJNORiwCdq"
      },
      "source": [
        ""
      ],
      "execution_count": null,
      "outputs": []
    },
    {
      "cell_type": "code",
      "metadata": {
        "id": "7YjSCvV6QKJ2"
      },
      "source": [
        ""
      ],
      "execution_count": null,
      "outputs": []
    },
    {
      "cell_type": "code",
      "metadata": {
        "id": "xyA18YxLQKG6"
      },
      "source": [
        ""
      ],
      "execution_count": null,
      "outputs": []
    },
    {
      "cell_type": "code",
      "metadata": {
        "id": "pEgjrL-gQKD5"
      },
      "source": [
        ""
      ],
      "execution_count": null,
      "outputs": []
    }
  ]
}