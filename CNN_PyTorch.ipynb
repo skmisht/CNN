{
  "nbformat": 4,
  "nbformat_minor": 0,
  "metadata": {
    "colab": {
      "name": "CNN_PyTorch.ipynb",
      "provenance": [],
      "toc_visible": true,
      "authorship_tag": "ABX9TyPztgZJ3TLObu72te4sihOO",
      "include_colab_link": true
    },
    "kernelspec": {
      "name": "python3",
      "display_name": "Python 3"
    },
    "accelerator": "GPU"
  },
  "cells": [
    {
      "cell_type": "markdown",
      "metadata": {
        "id": "view-in-github",
        "colab_type": "text"
      },
      "source": [
        "<a href=\"https://colab.research.google.com/github/skmisht/CNN/blob/main/CNN_PyTorch.ipynb\" target=\"_parent\"><img src=\"https://colab.research.google.com/assets/colab-badge.svg\" alt=\"Open In Colab\"/></a>"
      ]
    },
    {
      "cell_type": "markdown",
      "metadata": {
        "id": "bh7Wik-3D0R6"
      },
      "source": [
        "# Melanoma detection - PyTorch "
      ]
    },
    {
      "cell_type": "code",
      "metadata": {
        "id": "UPZxs6Q0EC91",
        "colab": {
          "base_uri": "https://localhost:8080/"
        },
        "outputId": "5db3b8d8-385c-4509-f376-32ded6e1b277"
      },
      "source": [
        "import os\r\n",
        "import csv \r\n",
        "import zipfile\r\n",
        "import numpy as np\r\n",
        "import pandas as pd\r\n",
        "import matplotlib.pyplot as plt\r\n",
        "import matplotlib.image as mpimg\r\n",
        "from google.colab import files\r\n",
        "\r\n",
        "import torch\r\n",
        "print(\"Current Torch version: \", torch.__version__)\r\n",
        "# to install if there is no latest version of torch\r\n",
        "# !pip install -q torch==1.0.0 \r\n",
        "\r\n",
        "import torchvision\r\n",
        "from torchvision.transforms import transforms"
      ],
      "execution_count": 1,
      "outputs": [
        {
          "output_type": "stream",
          "text": [
            "Current Torch version:  1.7.0+cu101\n"
          ],
          "name": "stdout"
        }
      ]
    },
    {
      "cell_type": "code",
      "metadata": {
        "id": "QKltfGoJZAm-",
        "colab": {
          "base_uri": "https://localhost:8080/",
          "height": 35
        },
        "outputId": "0c70a735-06b5-4042-a82c-2d42de6034c0"
      },
      "source": [
        "# test if the notebook is running on GPU\r\n",
        "import tensorflow as tf\r\n",
        "tf.test.gpu_device_name()"
      ],
      "execution_count": 2,
      "outputs": [
        {
          "output_type": "execute_result",
          "data": {
            "application/vnd.google.colaboratory.intrinsic+json": {
              "type": "string"
            },
            "text/plain": [
              "'/device:GPU:0'"
            ]
          },
          "metadata": {
            "tags": []
          },
          "execution_count": 2
        }
      ]
    },
    {
      "cell_type": "code",
      "metadata": {
        "colab": {
          "base_uri": "https://localhost:8080/"
        },
        "id": "15s8LnlsPKgg",
        "outputId": "e21abf80-47b2-4fb8-f83e-e60d8e90570b"
      },
      "source": [
        "# accessing data files from shared directory \r\n",
        "import os\r\n",
        "from google.colab import drive\r\n",
        "drive.mount('/content/drive', force_remount=True)\r\n",
        "os.chdir(\"/content/drive/My Drive/isic-challenge-2017\")"
      ],
      "execution_count": 3,
      "outputs": [
        {
          "output_type": "stream",
          "text": [
            "Mounted at /content/drive\n"
          ],
          "name": "stdout"
        }
      ]
    },
    {
      "cell_type": "code",
      "metadata": {
        "colab": {
          "base_uri": "https://localhost:8080/"
        },
        "id": "N2XaJfvN63nm",
        "outputId": "cd549c57-1bb8-428d-fff1-af90fbca5f0a"
      },
      "source": [
        "# list of files in isic-challenge folder\r\n",
        "base_dir = '/content/drive/My Drive/isic-challenge-2017'\r\n",
        "for file in os.listdir(base_dir):\r\n",
        "  if os.path.isdir(os.path.join(base_dir, file)) or os.path.isfile(os.path.join(base_dir, file)):\r\n",
        "    print(file)"
      ],
      "execution_count": 4,
      "outputs": [
        {
          "output_type": "stream",
          "text": [
            "ISIC-2017_Training_Part3_GroundTruth.csv\n",
            "ISIC-2017_Validation_Part3_GroundTruth.csv\n",
            "ISIC-2017_Test_v2_Part3_GroundTruth.csv\n",
            "ISIC-2017_Test_v2_Data\n",
            "ISIC-2017_Training_Data\n",
            "ISIC-2017_Validation_Data\n"
          ],
          "name": "stdout"
        }
      ]
    },
    {
      "cell_type": "code",
      "metadata": {
        "id": "UEuVG0uGPyQu",
        "colab": {
          "base_uri": "https://localhost:8080/",
          "height": 487
        },
        "outputId": "221af71c-c7d0-46f0-ff35-c7a98ea74d7b"
      },
      "source": [
        "# Training Images\r\n",
        "training_images = '/content/drive/MyDrive/isic-challenge-2017/ISIC-2017_Training_Data/ISIC-2017_Training_Data'\r\n",
        "# first 10 images from training\r\n",
        "training_images_names = os.listdir(training_images)\r\n",
        "print(training_images_names[:10])\r\n",
        "# training ground truth data\r\n",
        "training_groundTruth_csv = pd.read_csv('/content/drive/MyDrive/isic-challenge-2017/ISIC-2017_Training_Part3_GroundTruth.csv')\r\n",
        "print(training_groundTruth_csv.head(5))\r\n",
        "\r\n",
        "print() # blank line\r\n",
        "\r\n",
        "# Testing images \r\n",
        "testing_images = '/content/drive/MyDrive/isic-challenge-2017/ISIC-2017_Test_v2_Data/ISIC-2017_Test_v2_Data'\r\n",
        "testing_images_names = os.listdir(testing_images)\r\n",
        "print(testing_images_names[:10])\r\n",
        "# testing ground truth data\r\n",
        "test_groundTruth_csv = pd.read_csv('/content/drive/MyDrive/isic-challenge-2017/ISIC-2017_Test_v2_Part3_GroundTruth.csv')\r\n",
        "print(test_groundTruth_csv.head(5))\r\n",
        "\r\n",
        "\r\n",
        "print() # blank line\r\n",
        "\r\n",
        "# Meta csv files from training & testing\r\n",
        "training_meta_file = '/content/drive/MyDrive/isic-challenge-2017/ISIC-2017_Training_Data/ISIC-2017_Training_Data/ISIC-2017_Training_Data_metadata.csv'\r\n",
        "testing_meta_file = '/content/drive/MyDrive/isic-challenge-2017/ISIC-2017_Test_v2_Data/ISIC-2017_Test_v2_Data/ISIC-2017_Test_v2_Data_metadata.csv' \r\n",
        "# display training meta data \r\n",
        "train_meta = pd.read_csv(training_meta_file, delimiter=',')\r\n",
        "train_meta.head()\r\n",
        "\r\n",
        "print() # blank line\r\n",
        "\r\n",
        "# display the test meta data\r\n",
        "test_meta = pd.read_csv(testing_meta_file, delimiter=',')\r\n",
        "test_meta.head()\r\n"
      ],
      "execution_count": 5,
      "outputs": [
        {
          "output_type": "stream",
          "text": [
            "['ISIC_0013474.jpg', 'ISIC_0013474_superpixels.png', 'ISIC_0013480.jpg', 'ISIC_0013480_superpixels.png', 'ISIC_0013490_superpixels.png', 'ISIC_0013492_superpixels.png', 'ISIC_0013486.jpg', 'ISIC_0013489.jpg', 'ISIC_0013486_superpixels.png', 'ISIC_0013487.jpg']\n",
            "       image_id  melanoma  seborrheic_keratosis\n",
            "0  ISIC_0000000       0.0                   0.0\n",
            "1  ISIC_0000001       0.0                   0.0\n",
            "2  ISIC_0000002       1.0                   0.0\n",
            "3  ISIC_0000003       0.0                   0.0\n",
            "4  ISIC_0000004       1.0                   0.0\n",
            "\n",
            "['ISIC_0013414.jpg', 'ISIC_0013414_superpixels.png', 'ISIC_0013455_superpixels.png', 'ISIC_0013416.jpg', 'ISIC_0013455.jpg', 'ISIC_0013416_superpixels.png', 'ISIC_0013457_superpixels.png', 'ISIC_0013457.jpg', 'ISIC_0013459.jpg', 'ISIC_0013465_superpixels.png']\n",
            "       image_id  melanoma  seborrheic_keratosis\n",
            "0  ISIC_0012086       0.0                   1.0\n",
            "1  ISIC_0012092       0.0                   0.0\n",
            "2  ISIC_0012095       0.0                   0.0\n",
            "3  ISIC_0012134       0.0                   1.0\n",
            "4  ISIC_0012136       0.0                   1.0\n",
            "\n",
            "\n"
          ],
          "name": "stdout"
        },
        {
          "output_type": "execute_result",
          "data": {
            "text/html": [
              "<div>\n",
              "<style scoped>\n",
              "    .dataframe tbody tr th:only-of-type {\n",
              "        vertical-align: middle;\n",
              "    }\n",
              "\n",
              "    .dataframe tbody tr th {\n",
              "        vertical-align: top;\n",
              "    }\n",
              "\n",
              "    .dataframe thead th {\n",
              "        text-align: right;\n",
              "    }\n",
              "</style>\n",
              "<table border=\"1\" class=\"dataframe\">\n",
              "  <thead>\n",
              "    <tr style=\"text-align: right;\">\n",
              "      <th></th>\n",
              "      <th>image_id</th>\n",
              "      <th>age_approximate</th>\n",
              "      <th>sex</th>\n",
              "    </tr>\n",
              "  </thead>\n",
              "  <tbody>\n",
              "    <tr>\n",
              "      <th>0</th>\n",
              "      <td>ISIC_0012086</td>\n",
              "      <td>30</td>\n",
              "      <td>male</td>\n",
              "    </tr>\n",
              "    <tr>\n",
              "      <th>1</th>\n",
              "      <td>ISIC_0012092</td>\n",
              "      <td>40</td>\n",
              "      <td>male</td>\n",
              "    </tr>\n",
              "    <tr>\n",
              "      <th>2</th>\n",
              "      <td>ISIC_0012095</td>\n",
              "      <td>25</td>\n",
              "      <td>male</td>\n",
              "    </tr>\n",
              "    <tr>\n",
              "      <th>3</th>\n",
              "      <td>ISIC_0012134</td>\n",
              "      <td>75</td>\n",
              "      <td>female</td>\n",
              "    </tr>\n",
              "    <tr>\n",
              "      <th>4</th>\n",
              "      <td>ISIC_0012136</td>\n",
              "      <td>70</td>\n",
              "      <td>male</td>\n",
              "    </tr>\n",
              "  </tbody>\n",
              "</table>\n",
              "</div>"
            ],
            "text/plain": [
              "       image_id age_approximate     sex\n",
              "0  ISIC_0012086              30    male\n",
              "1  ISIC_0012092              40    male\n",
              "2  ISIC_0012095              25    male\n",
              "3  ISIC_0012134              75  female\n",
              "4  ISIC_0012136              70    male"
            ]
          },
          "metadata": {
            "tags": []
          },
          "execution_count": 5
        }
      ]
    },
    {
      "cell_type": "code",
      "metadata": {
        "colab": {
          "base_uri": "https://localhost:8080/"
        },
        "id": "ld6gPjCP--GB",
        "outputId": "07804372-2899-46ef-c126-b7117282e0c3"
      },
      "source": [
        "# total images in training and testing directory\r\n",
        "print(\"Total images in Training: \", len(training_images_names))\r\n",
        "print(\"Total images in Testing: \", len(testing_images_names))"
      ],
      "execution_count": 6,
      "outputs": [
        {
          "output_type": "stream",
          "text": [
            "Total images in Training:  4001\n",
            "Total images in Testing:  1201\n"
          ],
          "name": "stdout"
        }
      ]
    },
    {
      "cell_type": "code",
      "metadata": {
        "colab": {
          "base_uri": "https://localhost:8080/"
        },
        "id": "XKeIFFfZfFo3",
        "outputId": "30523fa3-1cf7-412f-c0e2-2ceb153ce766"
      },
      "source": [
        "# unique id from train csv\r\n",
        "print(f\"Image Ids from Training csv: \\nTotal patient ids are: {train_meta['image_id'].count()},\\nThe unique ids are: {train_meta['image_id'].value_counts().shape[0]}\")\r\n",
        "print() # blank line\r\n",
        "print(f\"Image Ids from Testing csv: \\nTotal patient ids are: {test_meta['image_id'].count()},\\nThe unique ids are: {test_meta['image_id'].value_counts().shape[0]}\")"
      ],
      "execution_count": 7,
      "outputs": [
        {
          "output_type": "stream",
          "text": [
            "Image Ids from Training csv: \n",
            "Total patient ids are: 2000,\n",
            "The unique ids are: 2000\n",
            "\n",
            "Image Ids from Testing csv: \n",
            "Total patient ids are: 600,\n",
            "The unique ids are: 600\n"
          ],
          "name": "stdout"
        }
      ]
    },
    {
      "cell_type": "code",
      "metadata": {
        "colab": {
          "base_uri": "https://localhost:8080/",
          "height": 191
        },
        "id": "eExIzU7YgoJD",
        "outputId": "e9e473dd-2557-4a0a-fb72-a170f5f4c7e4"
      },
      "source": [
        "# Inner join - joining training ground truth and meta csv \r\n",
        "training_data = pd.merge(training_groundTruth_csv, train_meta, on = 'image_id')\r\n",
        "training_data.head(5)"
      ],
      "execution_count": 8,
      "outputs": [
        {
          "output_type": "execute_result",
          "data": {
            "text/html": [
              "<div>\n",
              "<style scoped>\n",
              "    .dataframe tbody tr th:only-of-type {\n",
              "        vertical-align: middle;\n",
              "    }\n",
              "\n",
              "    .dataframe tbody tr th {\n",
              "        vertical-align: top;\n",
              "    }\n",
              "\n",
              "    .dataframe thead th {\n",
              "        text-align: right;\n",
              "    }\n",
              "</style>\n",
              "<table border=\"1\" class=\"dataframe\">\n",
              "  <thead>\n",
              "    <tr style=\"text-align: right;\">\n",
              "      <th></th>\n",
              "      <th>image_id</th>\n",
              "      <th>melanoma</th>\n",
              "      <th>seborrheic_keratosis</th>\n",
              "      <th>age_approximate</th>\n",
              "      <th>sex</th>\n",
              "    </tr>\n",
              "  </thead>\n",
              "  <tbody>\n",
              "    <tr>\n",
              "      <th>0</th>\n",
              "      <td>ISIC_0000000</td>\n",
              "      <td>0.0</td>\n",
              "      <td>0.0</td>\n",
              "      <td>55</td>\n",
              "      <td>female</td>\n",
              "    </tr>\n",
              "    <tr>\n",
              "      <th>1</th>\n",
              "      <td>ISIC_0000001</td>\n",
              "      <td>0.0</td>\n",
              "      <td>0.0</td>\n",
              "      <td>30</td>\n",
              "      <td>female</td>\n",
              "    </tr>\n",
              "    <tr>\n",
              "      <th>2</th>\n",
              "      <td>ISIC_0000002</td>\n",
              "      <td>1.0</td>\n",
              "      <td>0.0</td>\n",
              "      <td>60</td>\n",
              "      <td>female</td>\n",
              "    </tr>\n",
              "    <tr>\n",
              "      <th>3</th>\n",
              "      <td>ISIC_0000003</td>\n",
              "      <td>0.0</td>\n",
              "      <td>0.0</td>\n",
              "      <td>30</td>\n",
              "      <td>male</td>\n",
              "    </tr>\n",
              "    <tr>\n",
              "      <th>4</th>\n",
              "      <td>ISIC_0000004</td>\n",
              "      <td>1.0</td>\n",
              "      <td>0.0</td>\n",
              "      <td>80</td>\n",
              "      <td>male</td>\n",
              "    </tr>\n",
              "  </tbody>\n",
              "</table>\n",
              "</div>"
            ],
            "text/plain": [
              "       image_id  melanoma  seborrheic_keratosis age_approximate     sex\n",
              "0  ISIC_0000000       0.0                   0.0              55  female\n",
              "1  ISIC_0000001       0.0                   0.0              30  female\n",
              "2  ISIC_0000002       1.0                   0.0              60  female\n",
              "3  ISIC_0000003       0.0                   0.0              30    male\n",
              "4  ISIC_0000004       1.0                   0.0              80    male"
            ]
          },
          "metadata": {
            "tags": []
          },
          "execution_count": 8
        }
      ]
    },
    {
      "cell_type": "code",
      "metadata": {
        "colab": {
          "base_uri": "https://localhost:8080/",
          "height": 243
        },
        "id": "jY9-4ZhZat0P",
        "outputId": "7c909bdc-9f8c-42e6-bee8-babf7990fa75"
      },
      "source": [
        "# empty list for the all the .jpg file from training images\r\n",
        "training_images_names_list = list()\r\n",
        "# iterate over each image file\r\n",
        "for file in os.listdir(training_images):\r\n",
        "  if file.endswith(\".jpg\"):\r\n",
        "    training_images_names_list.append(file)\r\n",
        "    \r\n",
        "# display the list\r\n",
        "print(training_images_names_list[:10])\r\n",
        "\r\n",
        "print() # blank line\r\n",
        "\r\n",
        "# adding the images files to the training meta data first\r\n",
        "training_data['image_name'] = training_images_names_list + training_data['image_id'] + \".jpg\"\r\n",
        "training_data.head()"
      ],
      "execution_count": 10,
      "outputs": [
        {
          "output_type": "stream",
          "text": [
            "['ISIC_0013474.jpg', 'ISIC_0013480.jpg', 'ISIC_0013486.jpg', 'ISIC_0013489.jpg', 'ISIC_0013487.jpg', 'ISIC_0013492.jpg', 'ISIC_0013488.jpg', 'ISIC_0013490.jpg', 'ISIC_0013495.jpg', 'ISIC_0013493.jpg']\n",
            "\n"
          ],
          "name": "stdout"
        },
        {
          "output_type": "execute_result",
          "data": {
            "text/html": [
              "<div>\n",
              "<style scoped>\n",
              "    .dataframe tbody tr th:only-of-type {\n",
              "        vertical-align: middle;\n",
              "    }\n",
              "\n",
              "    .dataframe tbody tr th {\n",
              "        vertical-align: top;\n",
              "    }\n",
              "\n",
              "    .dataframe thead th {\n",
              "        text-align: right;\n",
              "    }\n",
              "</style>\n",
              "<table border=\"1\" class=\"dataframe\">\n",
              "  <thead>\n",
              "    <tr style=\"text-align: right;\">\n",
              "      <th></th>\n",
              "      <th>image_id</th>\n",
              "      <th>melanoma</th>\n",
              "      <th>seborrheic_keratosis</th>\n",
              "      <th>age_approximate</th>\n",
              "      <th>sex</th>\n",
              "      <th>image_name</th>\n",
              "    </tr>\n",
              "  </thead>\n",
              "  <tbody>\n",
              "    <tr>\n",
              "      <th>0</th>\n",
              "      <td>ISIC_0000000</td>\n",
              "      <td>0.0</td>\n",
              "      <td>0.0</td>\n",
              "      <td>55</td>\n",
              "      <td>female</td>\n",
              "      <td>ISIC_0013474.jpgISIC_0000000.jpg</td>\n",
              "    </tr>\n",
              "    <tr>\n",
              "      <th>1</th>\n",
              "      <td>ISIC_0000001</td>\n",
              "      <td>0.0</td>\n",
              "      <td>0.0</td>\n",
              "      <td>30</td>\n",
              "      <td>female</td>\n",
              "      <td>ISIC_0013480.jpgISIC_0000001.jpg</td>\n",
              "    </tr>\n",
              "    <tr>\n",
              "      <th>2</th>\n",
              "      <td>ISIC_0000002</td>\n",
              "      <td>1.0</td>\n",
              "      <td>0.0</td>\n",
              "      <td>60</td>\n",
              "      <td>female</td>\n",
              "      <td>ISIC_0013486.jpgISIC_0000002.jpg</td>\n",
              "    </tr>\n",
              "    <tr>\n",
              "      <th>3</th>\n",
              "      <td>ISIC_0000003</td>\n",
              "      <td>0.0</td>\n",
              "      <td>0.0</td>\n",
              "      <td>30</td>\n",
              "      <td>male</td>\n",
              "      <td>ISIC_0013489.jpgISIC_0000003.jpg</td>\n",
              "    </tr>\n",
              "    <tr>\n",
              "      <th>4</th>\n",
              "      <td>ISIC_0000004</td>\n",
              "      <td>1.0</td>\n",
              "      <td>0.0</td>\n",
              "      <td>80</td>\n",
              "      <td>male</td>\n",
              "      <td>ISIC_0013487.jpgISIC_0000004.jpg</td>\n",
              "    </tr>\n",
              "  </tbody>\n",
              "</table>\n",
              "</div>"
            ],
            "text/plain": [
              "       image_id  melanoma  ...     sex                        image_name\n",
              "0  ISIC_0000000       0.0  ...  female  ISIC_0013474.jpgISIC_0000000.jpg\n",
              "1  ISIC_0000001       0.0  ...  female  ISIC_0013480.jpgISIC_0000001.jpg\n",
              "2  ISIC_0000002       1.0  ...  female  ISIC_0013486.jpgISIC_0000002.jpg\n",
              "3  ISIC_0000003       0.0  ...    male  ISIC_0013489.jpgISIC_0000003.jpg\n",
              "4  ISIC_0000004       1.0  ...    male  ISIC_0013487.jpgISIC_0000004.jpg\n",
              "\n",
              "[5 rows x 6 columns]"
            ]
          },
          "metadata": {
            "tags": []
          },
          "execution_count": 10
        }
      ]
    },
    {
      "cell_type": "code",
      "metadata": {
        "id": "Rc9D24z3wCkb"
      },
      "source": [
        ""
      ],
      "execution_count": 9,
      "outputs": []
    },
    {
      "cell_type": "code",
      "metadata": {
        "id": "ytQlBeX0wCgn"
      },
      "source": [
        ""
      ],
      "execution_count": 9,
      "outputs": []
    },
    {
      "cell_type": "code",
      "metadata": {
        "id": "NxBJNORiwCdq"
      },
      "source": [
        ""
      ],
      "execution_count": 9,
      "outputs": []
    },
    {
      "cell_type": "code",
      "metadata": {
        "id": "7YjSCvV6QKJ2"
      },
      "source": [
        ""
      ],
      "execution_count": 9,
      "outputs": []
    },
    {
      "cell_type": "code",
      "metadata": {
        "id": "xyA18YxLQKG6"
      },
      "source": [
        ""
      ],
      "execution_count": 9,
      "outputs": []
    },
    {
      "cell_type": "code",
      "metadata": {
        "id": "pEgjrL-gQKD5"
      },
      "source": [
        ""
      ],
      "execution_count": 9,
      "outputs": []
    }
  ]
}