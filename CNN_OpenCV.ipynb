{
  "nbformat": 4,
  "nbformat_minor": 0,
  "metadata": {
    "colab": {
      "name": "CNN_OpenCV.ipynb",
      "provenance": [],
      "toc_visible": true
    },
    "kernelspec": {
      "name": "python3",
      "display_name": "Python 3"
    }
  },
  "cells": [
    {
      "cell_type": "markdown",
      "metadata": {
        "id": "BxyY4d79HQpg"
      },
      "source": [
        "# Melanoma detection using - OpenCV"
      ]
    },
    {
      "cell_type": "code",
      "metadata": {
        "id": "dWWBBZGIHWTG"
      },
      "source": [
        "!apt install -y caffe-cuda\r\n",
        "import numpy as np\r\n",
        "import matplotlib.pyplot as plt\r\n",
        "from PIL import Image\r\n",
        "import caffe\r\n",
        "caffe.set_mode_cpu()\r\n",
        "net = caffe.Net('/content/caffe/conv.prototxt', caffe.TEST)\r\n",
        "[(k, v.data.shape) for k, v in net.blobs.items()]\r\n",
        "[(k, v[0].data.shape, v[1].data.shape) for k, v in net.params.items()]\r\n",
        "print(net.blobs['conv'].data.shape)\r\n",
        "im = np.array(Image.open('/content/caffe/Examples/cat_gray.jpg'))\r\n",
        "im_input = im[np.newaxis, np.newaxis, :, :]\r\n",
        "net.blobs['data'].reshape(*im_input.shape)\r\n",
        "net.blobs['data'].data[...] = im_input\r\n",
        "net.forward()\r\n",
        "net.save('/content/caffe/mymodel.caffemodel')"
      ],
      "execution_count": 14,
      "outputs": []
    }
  ]
}