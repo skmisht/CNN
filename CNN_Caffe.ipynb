{
  "nbformat": 4,
  "nbformat_minor": 0,
  "metadata": {
    "colab": {
      "name": "CNN_Caffe.ipynb",
      "provenance": [],
      "authorship_tag": "ABX9TyOPeot8KQUAJumoqNWMnzlT",
      "include_colab_link": true
    },
    "kernelspec": {
      "name": "python3",
      "display_name": "Python 3"
    }
  },
  "cells": [
    {
      "cell_type": "markdown",
      "metadata": {
        "id": "view-in-github",
        "colab_type": "text"
      },
      "source": [
        "<a href=\"https://colab.research.google.com/github/skmisht/CNN/blob/main/CNN_Caffe.ipynb\" target=\"_parent\"><img src=\"https://colab.research.google.com/assets/colab-badge.svg\" alt=\"Open In Colab\"/></a>"
      ]
    },
    {
      "cell_type": "markdown",
      "metadata": {
        "id": "1JjE0Vxgu2Ah"
      },
      "source": [
        "\r\n",
        "# Melanoma detection using - Caffe"
      ]
    },
    {
      "cell_type": "code",
      "metadata": {
        "id": "0uwaX3Aiu98V",
        "colab": {
          "base_uri": "https://localhost:8080/"
        },
        "outputId": "c8542bc4-e5fd-4eff-f505-f5e1392c69fa"
      },
      "source": [
        "#sample caffe cnn sample config https://github.com/BVLC/caffe/blob/master/examples/net_surgery/bvlc_caffenet_full_conv.prototxt\r\n",
        "#Connect google colab to google drive\r\n",
        "from google.colab import drive\r\n",
        "drive.mount('/content/drive')\r\n"
      ],
      "execution_count": 3,
      "outputs": [
        {
          "output_type": "stream",
          "text": [
            "Mounted at /content/drive\n"
          ],
          "name": "stdout"
        }
      ]
    },
    {
      "cell_type": "code",
      "metadata": {
        "id": "2H8VQQPkpkfZ"
      },
      "source": [
        "!kill -9 -1"
      ],
      "execution_count": null,
      "outputs": []
    },
    {
      "cell_type": "code",
      "metadata": {
        "id": "qyFme3VFprjF"
      },
      "source": [
        "with open('/etc/apt/sources.list') as f:\r\n",
        "  txt = f.read()\r\n",
        "with open('/etc/apt/sources.list.backup', 'w') as f:\r\n",
        "  f.write(txt)\r\n",
        "with open('/etc/apt/sources.list', 'w') as f:\r\n",
        "  f.write(txt.replace('# deb-src','deb-src'))"
      ],
      "execution_count": 1,
      "outputs": []
    },
    {
      "cell_type": "code",
      "metadata": {
        "id": "oKLGTeedpucN"
      },
      "source": [
        "!apt update\r\n",
        "!apt build-dep caffe-cuda\r\n",
        "!apt install g++-5"
      ],
      "execution_count": null,
      "outputs": []
    },
    {
      "cell_type": "code",
      "metadata": {
        "id": "S1EGvoWKqIXm"
      },
      "source": [
        "!wget https://dl.bintray.com/boostorg/release/1.67.0/source/boost_1_67_0.tar.bz2\r\n",
        "!tar --bzip2 -xf boost_1_67_0.tar.bz2"
      ],
      "execution_count": null,
      "outputs": []
    },
    {
      "cell_type": "code",
      "metadata": {
        "id": "B8aVJiIKqOzw"
      },
      "source": [
        "!update-alternatives --remove-all gcc \r\n",
        "!update-alternatives --remove-all g++\r\n",
        "\r\n",
        "!update-alternatives --install /usr/bin/gcc gcc /usr/bin/gcc-5 20\r\n",
        "!update-alternatives --install /usr/bin/g++ g++ /usr/bin/g++-5 20\r\n",
        "\r\n",
        "!update-alternatives --install /usr/bin/cc cc /usr/bin/gcc 30\r\n",
        "!update-alternatives --set cc /usr/bin/gcc\r\n",
        "\r\n",
        "!update-alternatives --install /usr/bin/c++ c++ /usr/bin/g++ 30\r\n",
        "!update-alternatives --set c++ /usr/bin/g++"
      ],
      "execution_count": null,
      "outputs": []
    },
    {
      "cell_type": "code",
      "metadata": {
        "id": "JNM9w_sjqRW2"
      },
      "source": [
        "!cd boost_1_67_0 && ./bootstrap.sh --exec-prefix=/usr/local --with-libraries=system,filesystem,regex,thread,python \\\r\n",
        "--with-python-version=2.7 --with-python-root=/usr\r\n",
        "!cd boost_1_67_0 && ./b2 install"
      ],
      "execution_count": null,
      "outputs": []
    },
    {
      "cell_type": "code",
      "metadata": {
        "id": "z2OuCREQqT2u",
        "outputId": "8d49625b-a6de-4cff-9b17-abb6d20b8198",
        "colab": {
          "base_uri": "https://localhost:8080/"
        }
      },
      "source": [
        "!git clone https://github.com/weiliu89/caffe.git && cd caffe && git checkout ssd"
      ],
      "execution_count": 7,
      "outputs": [
        {
          "output_type": "stream",
          "text": [
            "Cloning into 'caffe'...\n",
            "remote: Enumerating objects: 30179, done.\u001b[K\n",
            "remote: Total 30179 (delta 0), reused 0 (delta 0), pack-reused 30179\u001b[K\n",
            "Receiving objects: 100% (30179/30179), 48.27 MiB | 18.09 MiB/s, done.\n",
            "Resolving deltas: 100% (19451/19451), done.\n",
            "Branch 'ssd' set up to track remote branch 'ssd' from 'origin'.\n",
            "Switched to a new branch 'ssd'\n"
          ],
          "name": "stdout"
        }
      ]
    },
    {
      "cell_type": "code",
      "metadata": {
        "id": "2fh4CTOwsfzh"
      },
      "source": [
        "with open('caffe/Makefile.config.example') as f:\r\n",
        "  config = f.read()\r\n",
        "  \r\n",
        "comment = ['CUDA_DIR := /usr/local/cuda', \r\n",
        "           'BLAS := open']\r\n",
        "uncomment = ['# CUDA_DIR := /usr', \r\n",
        "             '# BLAS := atlas', \r\n",
        "             '# OPENCV_VERSION := 3', '# WITH_PYTHON_LAYER := 1'] #\r\n",
        "replace = [('INCLUDE_DIRS := $(PYTHON_INCLUDE) /usr/local/include',\r\n",
        "            'INCLUDE_DIRS := $(PYTHON_INCLUDE) /usr/local/include /usr/include/hdf5/serial /usr/local/lib/python2.7/dist-packages/numpy/core/include/'), \r\n",
        "           ('LIBRARY_DIRS := $(PYTHON_LIB) /usr/local/lib /usr/lib',\r\n",
        "            'LIBRARY_DIRS := $(PYTHON_LIB) /usr/local/lib /usr/lib /usr/lib/x86_64-linux-gnu/hdf5/serial')]\r\n",
        "\r\n",
        "for c in uncomment:\r\n",
        "  config = config.replace(c, c[2:])\r\n",
        "for c in comment:\r\n",
        "  config = config.replace(c, '# '+c)\r\n",
        "for c1,c2 in replace:\r\n",
        "  config = config.replace(c1, c2)\r\n",
        "  \r\n",
        "with open('caffe/Makefile.config', 'w') as f:\r\n",
        "  f.write(config)"
      ],
      "execution_count": 8,
      "outputs": []
    },
    {
      "cell_type": "code",
      "metadata": {
        "id": "9pBs-fQ0siDv"
      },
      "source": [
        "with open('caffe/Makefile') as f:\r\n",
        "  mfile = f.read()\r\n",
        "  \r\n",
        "with open('caffe/Makefile.backup', 'w') as f:\r\n",
        "  f.write(mfile)\r\n",
        "  \r\n",
        "with open('caffe/Makefile', 'w') as f:\r\n",
        "  f.write(mfile.replace('-isystem','-I'))"
      ],
      "execution_count": 9,
      "outputs": []
    },
    {
      "cell_type": "code",
      "metadata": {
        "id": "MlWZ5zx_slBv"
      },
      "source": [
        "with open('/usr/include/x86_64-linux-gnu/c++/6/bits/c++config.h') as f:\r\n",
        "  txt = f.read()\r\n",
        "with open('/usr/include/x86_64-linux-gnu/c++/6/bits/c++config.h', 'w') as f:\r\n",
        "  f.write(txt.replace('/* #undef _GLIBCXX_USE_C99_MATH */',\r\n",
        "                      '/* #undef _GLIBCXX_USE_C99_MATH */\\n#define  _GLIBCXX_USE_C99_MATH  1'))"
      ],
      "execution_count": 11,
      "outputs": []
    },
    {
      "cell_type": "code",
      "metadata": {
        "id": "-VdVwb3espEm",
        "outputId": "49dafd57-e85c-40f0-d67e-81141134d6c6",
        "colab": {
          "base_uri": "https://localhost:8080/"
        }
      },
      "source": [
        "!cd caffe && make -j8 && make pycaffe && make test -j8 && make distribute"
      ],
      "execution_count": 12,
      "outputs": [
        {
          "output_type": "stream",
          "text": [
            "CXX src/caffe/data_reader.cpp\n",
            "PROTOC src/caffe/proto/caffe.proto\n",
            "CXX src/caffe/layer.cpp\n",
            "CXX src/caffe/internal_thread.cpp\n",
            "CXX src/caffe/common.cpp\n",
            "CXX src/caffe/layer_factory.cpp\n",
            "CXX src/caffe/data_transformer.cpp\n",
            "CXX src/caffe/parallel.cpp\n",
            "src/caffe/parallel.cpp:2:10: fatal error: cuda_runtime.h: No such file or directory\n",
            " #include <cuda_runtime.h>\n",
            "          ^~~~~~~~~~~~~~~~\n",
            "compilation terminated.\n",
            "Makefile:575: recipe for target '.build_release/src/caffe/parallel.o' failed\n",
            "make: *** [.build_release/src/caffe/parallel.o] Error 1\n",
            "make: *** Waiting for unfinished jobs....\n",
            "In file included from /usr/include/cublas_v2.h:65:0,\n",
            "                 from ./include/caffe/util/device_alternate.hpp:34,\n",
            "                 from ./include/caffe/common.hpp:19,\n",
            "                 from ./include/caffe/blob.hpp:8,\n",
            "                 from ./include/caffe/data_transformer.hpp:8,\n",
            "                 from src/caffe/data_transformer.cpp:8:\n",
            "/usr/include/cublas_api.h:72:10: fatal error: driver_types.h: No such file or directory\n",
            " #include \"driver_types.h\"\n",
            "          ^~~~~~~~~~~~~~~~\n",
            "compilation terminated.\n",
            "Makefile:575: recipe for target '.build_release/src/caffe/data_transformer.o' failed\n",
            "make: *** [.build_release/src/caffe/data_transformer.o] Error 1\n",
            "In file included from /usr/include/cublas_v2.h:65:0,\n",
            "                 from ./include/caffe/util/device_alternate.hpp:34,\n",
            "                 from ./include/caffe/common.hpp:19,\n",
            "                 from src/caffe/common.cpp:7:\n",
            "/usr/include/cublas_api.h:72:10: fatal error: driver_types.h: No such file or directory\n",
            " #include \"driver_types.h\"\n",
            "          ^~~~~~~~~~~~~~~~\n",
            "compilation terminated.\n",
            "Makefile:575: recipe for target '.build_release/src/caffe/common.o' failed\n",
            "make: *** [.build_release/src/caffe/common.o] Error 1\n",
            "In file included from /usr/include/cublas_v2.h:65:0,\n",
            "                 from ./include/caffe/util/device_alternate.hpp:34,\n",
            "                 from ./include/caffe/common.hpp:19,\n",
            "                 from ./include/caffe/blob.hpp:8,\n",
            "                 from ./include/caffe/layer.hpp:8,\n",
            "                 from src/caffe/layer.cpp:2:\n",
            "/usr/include/cublas_api.h:72:10: fatal error: driver_types.h: No such file or directory\n",
            " #include \"driver_types.h\"\n",
            "          ^~~~~~~~~~~~~~~~\n",
            "compilation terminated.\n",
            "Makefile:575: recipe for target '.build_release/src/caffe/layer.o' failed\n",
            "make: *** [.build_release/src/caffe/layer.o] Error 1\n",
            "In file included from /usr/include/cublas_v2.h:65:0,\n",
            "                 from ./include/caffe/util/device_alternate.hpp:34,\n",
            "                 from ./include/caffe/common.hpp:19,\n",
            "                 from ./include/caffe/internal_thread.hpp:4,\n",
            "                 from src/caffe/internal_thread.cpp:4:\n",
            "/usr/include/cublas_api.h:72:10: fatal error: driver_types.h: No such file or directory\n",
            " #include \"driver_types.h\"\n",
            "          ^~~~~~~~~~~~~~~~\n",
            "compilation terminated.\n",
            "Makefile:575: recipe for target '.build_release/src/caffe/internal_thread.o' failed\n",
            "make: *** [.build_release/src/caffe/internal_thread.o] Error 1\n",
            "In file included from /usr/include/cublas_v2.h:65:0,\n",
            "                 from ./include/caffe/util/device_alternate.hpp:34,\n",
            "                 from ./include/caffe/common.hpp:19,\n",
            "                 from src/caffe/data_reader.cpp:6:\n",
            "/usr/include/cublas_api.h:72:10: fatal error: driver_types.h: No such file or directory\n",
            " #include \"driver_types.h\"\n",
            "          ^~~~~~~~~~~~~~~~\n",
            "compilation terminated.\n",
            "Makefile:575: recipe for target '.build_release/src/caffe/data_reader.o' failed\n",
            "make: *** [.build_release/src/caffe/data_reader.o] Error 1\n",
            "In file included from /usr/include/cublas_v2.h:65:0,\n",
            "                 from ./include/caffe/util/device_alternate.hpp:34,\n",
            "                 from ./include/caffe/common.hpp:19,\n",
            "                 from ./include/caffe/blob.hpp:8,\n",
            "                 from ./include/caffe/layer.hpp:8,\n",
            "                 from src/caffe/layer_factory.cpp:8:\n",
            "/usr/include/cublas_api.h:72:10: fatal error: driver_types.h: No such file or directory\n",
            " #include \"driver_types.h\"\n",
            "          ^~~~~~~~~~~~~~~~\n",
            "compilation terminated.\n",
            "Makefile:575: recipe for target '.build_release/src/caffe/layer_factory.o' failed\n",
            "make: *** [.build_release/src/caffe/layer_factory.o] Error 1\n"
          ],
          "name": "stdout"
        }
      ]
    },
    {
      "cell_type": "code",
      "metadata": {
        "id": "-O9gne8psszY",
        "outputId": "9730b251-1df1-4719-898e-b0dba67deda9",
        "colab": {
          "base_uri": "https://localhost:8080/"
        }
      },
      "source": [
        "!cd caffe/python && pwd"
      ],
      "execution_count": 14,
      "outputs": [
        {
          "output_type": "stream",
          "text": [
            "/content/caffe/python\n"
          ],
          "name": "stdout"
        }
      ]
    },
    {
      "cell_type": "code",
      "metadata": {
        "colab": {
          "base_uri": "https://localhost:8080/"
        },
        "id": "6PJcw-lyvv1E",
        "outputId": "5cf6da28-7ced-46c6-ffa3-cfa937050e75"
      },
      "source": [
        "#install caffe with GPU support\r\n",
        "#!apt install -y caffe-cuda\r\n",
        "#install caffe with CPU support\r\n",
        "!apt install -y caffe-cpu"
      ],
      "execution_count": 5,
      "outputs": [
        {
          "output_type": "stream",
          "text": [
            "Reading package lists... Done\n",
            "Building dependency tree       \n",
            "Reading state information... Done\n",
            "caffe-cpu is already the newest version (1.0.0-6).\n",
            "0 upgraded, 0 newly installed, 0 to remove and 10 not upgraded.\n"
          ],
          "name": "stdout"
        }
      ]
    },
    {
      "cell_type": "code",
      "metadata": {
        "colab": {
          "base_uri": "https://localhost:8080/"
        },
        "id": "AgIG-HGHoXp5",
        "outputId": "d3b339d7-2776-4942-d95b-cea78225d56f"
      },
      "source": [
        "import pandas as pd \r\n",
        "\r\n",
        "training_truth_data = pd.read_csv('/content/drive/MyDrive/isic-challenge-2017/ISIC-2017_Training_Part3_GroundTruth.csv') \r\n",
        "testing_truth_data = pd.read_csv('/content/drive/MyDrive/isic-challenge-2017/ISIC-2017_Test_v2_Part3_GroundTruth.csv') \r\n",
        "\r\n",
        "training_metadata = pd.read_csv('/content/drive/MyDrive/isic-challenge-2017/ISIC-2017_Training_Data/ISIC-2017_Training_Data/ISIC-2017_Training_Data_metadata.csv')\r\n",
        "testing_metadata = pd.read_csv('/content/drive/MyDrive/isic-challenge-2017/ISIC-2017_Test_v2_Data/ISIC-2017_Test_v2_Data/ISIC-2017_Test_v2_Data_metadata.csv')\r\n",
        "\r\n",
        "path_training_images ='/content/drive/MyDrive/isic-challenge-2017/ISIC-2017_Training_Data/ISIC-2017_Training_Data/'\r\n",
        "path_testing_images ='/content/drive/MyDrive/isic-challenge-2017/ISIC-2017_Test_v2_Data/ISIC-2017_Test_v2_Data/'\r\n",
        "\r\n",
        "\r\n",
        "#add new column to training_truth_data witht he path to corresponding image\r\n",
        "path_to_training_images_array = []\r\n",
        "for x in training_truth_data.values:\r\n",
        "    path_to_image = path_training_images + x[0] +'.jpg'\r\n",
        "    path_to_training_images_array.append(path_to_image)\r\n",
        "#add path to image to the training data frame\r\n",
        "training_truth_data['path_to_image'] = path_to_training_images_array\r\n",
        "#merge training truth data with metadata, join on the image_id's\r\n",
        "training_data = pd.merge(training_truth_data, training_metadata, left_on='image_id', right_on='image_id', how='left').drop('image_id', axis=1)\r\n",
        "\r\n",
        "#add new column to test_truth_data witht he path to corresponding image\r\n",
        "path_to_test_images_array = []\r\n",
        "for x in testing_truth_data.values:\r\n",
        "  path_to_image = path_testing_images + str(x[0])+'.jpg'\r\n",
        "  path_to_test_images_array.append(path_to_image)\r\n",
        "#add path to image to the testing data frame\r\n",
        "testing_truth_data['path_to_image'] = path_to_test_images_array\r\n",
        "#merge testing truth data with metadata, join on the image_id's\r\n",
        "testing_data = pd.merge(testing_truth_data, testing_metadata, left_on='image_id', right_on='image_id', how='left').drop('image_id', axis=1)\r\n",
        "\r\n",
        "\r\n",
        "print(training_data.head())\r\n",
        "print(testing_data.head())\r\n",
        "\r\n",
        "\r\n",
        "\r\n",
        "\r\n",
        "\r\n"
      ],
      "execution_count": 10,
      "outputs": [
        {
          "output_type": "stream",
          "text": [
            "   melanoma  seborrheic_keratosis  ... age_approximate     sex\n",
            "0       0.0                   0.0  ...              55  female\n",
            "1       0.0                   0.0  ...              30  female\n",
            "2       1.0                   0.0  ...              60  female\n",
            "3       0.0                   0.0  ...              30    male\n",
            "4       1.0                   0.0  ...              80    male\n",
            "\n",
            "[5 rows x 5 columns]\n",
            "   melanoma  seborrheic_keratosis  ... age_approximate     sex\n",
            "0       0.0                   1.0  ...              30    male\n",
            "1       0.0                   0.0  ...              40    male\n",
            "2       0.0                   0.0  ...              25    male\n",
            "3       0.0                   1.0  ...              75  female\n",
            "4       0.0                   1.0  ...              70    male\n",
            "\n",
            "[5 rows x 5 columns]\n"
          ],
          "name": "stdout"
        }
      ]
    },
    {
      "cell_type": "code",
      "metadata": {
        "id": "CcX9_fA6Q1T5"
      },
      "source": [
        "text = []\r\n",
        "for x in training_data.values:\r\n",
        "  text.append(x[2]+' '+str(x[0])+'\\n')\r\n",
        "\r\n",
        "with open ('/content/drive/MyDrive/Caffe/train.txt', 'w') as T:\r\n",
        "  T.writelines(text)"
      ],
      "execution_count": 23,
      "outputs": []
    },
    {
      "cell_type": "code",
      "metadata": {
        "id": "8aKNnZVWNHTp",
        "outputId": "f37cceda-78a2-48b4-e174-000ff0da2fbf",
        "colab": {
          "base_uri": "https://localhost:8080/",
          "height": 510
        }
      },
      "source": [
        "import sys\r\n",
        "import h5py, os\r\n",
        "caffe_path = !cd caffe/python && pwd\r\n",
        "sys.path.insert(0, caffe_path[0])  \r\n",
        "import caffe.io\r\n",
        "\r\n",
        "import numpy as np\r\n",
        "SIZE = 224 # fixed size to all images\r\n",
        "with open( '/content/drive/MyDrive/Caffe/train.txt', 'r' ) as T :\r\n",
        " lines = T.readlines()\r\n",
        "# If you do not have enough memory split data into\r\n",
        "# multiple batches and generate multiple separate h5 files\r\n",
        "X = np.zeros( (len(lines), 3, SIZE, SIZE), dtype='f4' )\r\n",
        "y = np.zeros( (1,len(lines)), dtype='f4' )\r\n",
        "for i,l in enumerate(lines):\r\n",
        " sp = l.split(' ')\r\n",
        " img = caffe.io.load_image(sp[0])\r\n",
        " img = caffe.io.resize( img, (SIZE, SIZE, 3) ) # resize to fixed size\r\n",
        " # you may apply other input transformations here...\r\n",
        " # Note that the transformation should take img from size-by-size-by-3 and transpose it to3-by-size-by-size\r\n",
        " X[i] = img\r\n",
        " y[i] = float(sp[1])\r\n",
        "with h5py.File('/content/drive/MyDrive/Caffe/train.h5','w') as H:\r\n",
        " H.create_dataset( 'X', data=X )"
      ],
      "execution_count": 20,
      "outputs": [
        {
          "output_type": "error",
          "ename": "ModuleNotFoundError",
          "evalue": "ignored",
          "traceback": [
            "\u001b[0;31m---------------------------------------------------------------------------\u001b[0m",
            "\u001b[0;31mModuleNotFoundError\u001b[0m                       Traceback (most recent call last)",
            "\u001b[0;32m<ipython-input-20-249c4ddef441>\u001b[0m in \u001b[0;36m<module>\u001b[0;34m()\u001b[0m\n\u001b[1;32m      3\u001b[0m \u001b[0mcaffe_path\u001b[0m \u001b[0;34m=\u001b[0m \u001b[0mget_ipython\u001b[0m\u001b[0;34m(\u001b[0m\u001b[0;34m)\u001b[0m\u001b[0;34m.\u001b[0m\u001b[0mgetoutput\u001b[0m\u001b[0;34m(\u001b[0m\u001b[0;34m'cd caffe/python && pwd'\u001b[0m\u001b[0;34m)\u001b[0m\u001b[0;34m\u001b[0m\u001b[0;34m\u001b[0m\u001b[0m\n\u001b[1;32m      4\u001b[0m \u001b[0msys\u001b[0m\u001b[0;34m.\u001b[0m\u001b[0mpath\u001b[0m\u001b[0;34m.\u001b[0m\u001b[0minsert\u001b[0m\u001b[0;34m(\u001b[0m\u001b[0;36m0\u001b[0m\u001b[0;34m,\u001b[0m \u001b[0mcaffe_path\u001b[0m\u001b[0;34m[\u001b[0m\u001b[0;36m0\u001b[0m\u001b[0;34m]\u001b[0m\u001b[0;34m)\u001b[0m\u001b[0;34m\u001b[0m\u001b[0;34m\u001b[0m\u001b[0m\n\u001b[0;32m----> 5\u001b[0;31m \u001b[0;32mimport\u001b[0m \u001b[0mcaffe\u001b[0m\u001b[0;34m.\u001b[0m\u001b[0mio\u001b[0m\u001b[0;34m\u001b[0m\u001b[0;34m\u001b[0m\u001b[0m\n\u001b[0m\u001b[1;32m      6\u001b[0m \u001b[0;34m\u001b[0m\u001b[0m\n\u001b[1;32m      7\u001b[0m \u001b[0;32mimport\u001b[0m \u001b[0mnumpy\u001b[0m \u001b[0;32mas\u001b[0m \u001b[0mnp\u001b[0m\u001b[0;34m\u001b[0m\u001b[0;34m\u001b[0m\u001b[0m\n",
            "\u001b[0;32m/content/caffe/python/caffe/__init__.py\u001b[0m in \u001b[0;36m<module>\u001b[0;34m()\u001b[0m\n\u001b[0;32m----> 1\u001b[0;31m \u001b[0;32mfrom\u001b[0m \u001b[0;34m.\u001b[0m\u001b[0mpycaffe\u001b[0m \u001b[0;32mimport\u001b[0m \u001b[0mNet\u001b[0m\u001b[0;34m,\u001b[0m \u001b[0mSGDSolver\u001b[0m\u001b[0;34m,\u001b[0m \u001b[0mNesterovSolver\u001b[0m\u001b[0;34m,\u001b[0m \u001b[0mAdaGradSolver\u001b[0m\u001b[0;34m,\u001b[0m \u001b[0mRMSPropSolver\u001b[0m\u001b[0;34m,\u001b[0m \u001b[0mAdaDeltaSolver\u001b[0m\u001b[0;34m,\u001b[0m \u001b[0mAdamSolver\u001b[0m\u001b[0;34m\u001b[0m\u001b[0;34m\u001b[0m\u001b[0m\n\u001b[0m\u001b[1;32m      2\u001b[0m \u001b[0;32mfrom\u001b[0m \u001b[0;34m.\u001b[0m\u001b[0m_caffe\u001b[0m \u001b[0;32mimport\u001b[0m \u001b[0mset_mode_cpu\u001b[0m\u001b[0;34m,\u001b[0m \u001b[0mset_mode_gpu\u001b[0m\u001b[0;34m,\u001b[0m \u001b[0mset_device\u001b[0m\u001b[0;34m,\u001b[0m \u001b[0mLayer\u001b[0m\u001b[0;34m,\u001b[0m \u001b[0mget_solver\u001b[0m\u001b[0;34m,\u001b[0m \u001b[0mlayer_type_list\u001b[0m\u001b[0;34m,\u001b[0m \u001b[0mset_random_seed\u001b[0m\u001b[0;34m\u001b[0m\u001b[0;34m\u001b[0m\u001b[0m\n\u001b[1;32m      3\u001b[0m \u001b[0;32mfrom\u001b[0m \u001b[0;34m.\u001b[0m\u001b[0m_caffe\u001b[0m \u001b[0;32mimport\u001b[0m \u001b[0m__version__\u001b[0m\u001b[0;34m\u001b[0m\u001b[0;34m\u001b[0m\u001b[0m\n\u001b[1;32m      4\u001b[0m \u001b[0;32mfrom\u001b[0m \u001b[0;34m.\u001b[0m\u001b[0mproto\u001b[0m\u001b[0;34m.\u001b[0m\u001b[0mcaffe_pb2\u001b[0m \u001b[0;32mimport\u001b[0m \u001b[0mTRAIN\u001b[0m\u001b[0;34m,\u001b[0m \u001b[0mTEST\u001b[0m\u001b[0;34m\u001b[0m\u001b[0;34m\u001b[0m\u001b[0m\n\u001b[1;32m      5\u001b[0m \u001b[0;32mfrom\u001b[0m \u001b[0;34m.\u001b[0m\u001b[0mclassifier\u001b[0m \u001b[0;32mimport\u001b[0m \u001b[0mClassifier\u001b[0m\u001b[0;34m\u001b[0m\u001b[0;34m\u001b[0m\u001b[0m\n",
            "\u001b[0;32m/content/caffe/python/caffe/pycaffe.py\u001b[0m in \u001b[0;36m<module>\u001b[0;34m()\u001b[0m\n\u001b[1;32m     11\u001b[0m \u001b[0;32mimport\u001b[0m \u001b[0mnumpy\u001b[0m \u001b[0;32mas\u001b[0m \u001b[0mnp\u001b[0m\u001b[0;34m\u001b[0m\u001b[0;34m\u001b[0m\u001b[0m\n\u001b[1;32m     12\u001b[0m \u001b[0;34m\u001b[0m\u001b[0m\n\u001b[0;32m---> 13\u001b[0;31m \u001b[0;32mfrom\u001b[0m \u001b[0;34m.\u001b[0m\u001b[0m_caffe\u001b[0m \u001b[0;32mimport\u001b[0m \u001b[0mNet\u001b[0m\u001b[0;34m,\u001b[0m \u001b[0mSGDSolver\u001b[0m\u001b[0;34m,\u001b[0m \u001b[0mNesterovSolver\u001b[0m\u001b[0;34m,\u001b[0m \u001b[0mAdaGradSolver\u001b[0m\u001b[0;34m,\u001b[0m\u001b[0;31m \u001b[0m\u001b[0;31m\\\u001b[0m\u001b[0;34m\u001b[0m\u001b[0;34m\u001b[0m\u001b[0m\n\u001b[0m\u001b[1;32m     14\u001b[0m         \u001b[0mRMSPropSolver\u001b[0m\u001b[0;34m,\u001b[0m \u001b[0mAdaDeltaSolver\u001b[0m\u001b[0;34m,\u001b[0m \u001b[0mAdamSolver\u001b[0m\u001b[0;34m\u001b[0m\u001b[0;34m\u001b[0m\u001b[0m\n\u001b[1;32m     15\u001b[0m \u001b[0;32mimport\u001b[0m \u001b[0mcaffe\u001b[0m\u001b[0;34m.\u001b[0m\u001b[0mio\u001b[0m\u001b[0;34m\u001b[0m\u001b[0;34m\u001b[0m\u001b[0m\n",
            "\u001b[0;31mModuleNotFoundError\u001b[0m: No module named 'caffe._caffe'",
            "",
            "\u001b[0;31m---------------------------------------------------------------------------\u001b[0;32m\nNOTE: If your import is failing due to a missing package, you can\nmanually install dependencies using either !pip or !apt.\n\nTo view examples of installing some common dependencies, click the\n\"Open Examples\" button below.\n\u001b[0;31m---------------------------------------------------------------------------\u001b[0m\n"
          ]
        }
      ]
    },
    {
      "cell_type": "code",
      "metadata": {
        "colab": {
          "base_uri": "https://localhost:8080/",
          "height": 231
        },
        "id": "vAbnjUYNxK7N",
        "outputId": "22ff6eb7-cd19-417b-e764-2ff0ceb49bd5"
      },
      "source": [
        "import numpy as np\r\n",
        "import matplotlib.pyplot as plt\r\n",
        "from PIL import Image\r\n",
        "import caffe\r\n",
        "\r\n",
        "#set mode to use GPU\r\n",
        "caffe.set_mode_cpu()\r\n",
        "\r\n",
        "#load network architecture\r\n",
        "net = caffe.Net('/content/drive/MyDrive/Caffe/cnn_model.prototxt', caffe.TEST)\r\n",
        "\r\n",
        "#2351622\r\n",
        "input = None\r\n",
        "for x in training_data.values:\r\n",
        "  im = np.array(Image.open(x[2]))\r\n",
        "  im_input = im[np.newaxis, np.newaxis, :, :]\r\n",
        "  print(x[2] +'  '+str(im_input.size))\r\n",
        "  if (input is None):\r\n",
        "    input = im_input\r\n",
        "  else:\r\n",
        "    input = np.concatenate((input, im_input))\r\n",
        "\r\n",
        "net.blobs['data'].reshape(*input.shape)\r\n",
        "net.blobs['data'].data[...] = input\r\n",
        "\r\n",
        "net.save('/content/drive/MyDrive/Caffe/melanoma_cnn.caffemodel')\r\n",
        "\r\n"
      ],
      "execution_count": 31,
      "outputs": [
        {
          "output_type": "error",
          "ename": "AttributeError",
          "evalue": "ignored",
          "traceback": [
            "\u001b[0;31m---------------------------------------------------------------------------\u001b[0m",
            "\u001b[0;31mAttributeError\u001b[0m                            Traceback (most recent call last)",
            "\u001b[0;32m<ipython-input-31-19b97db70023>\u001b[0m in \u001b[0;36m<module>\u001b[0;34m()\u001b[0m\n\u001b[1;32m      6\u001b[0m \u001b[0;34m\u001b[0m\u001b[0m\n\u001b[1;32m      7\u001b[0m \u001b[0;31m#load network architecture\u001b[0m\u001b[0;34m\u001b[0m\u001b[0;34m\u001b[0m\u001b[0;34m\u001b[0m\u001b[0m\n\u001b[0;32m----> 8\u001b[0;31m \u001b[0mnet\u001b[0m \u001b[0;34m=\u001b[0m \u001b[0mcaffe\u001b[0m\u001b[0;34m.\u001b[0m\u001b[0mNet\u001b[0m\u001b[0;34m(\u001b[0m\u001b[0;34m'/content/drive/MyDrive/Caffe/cnn_model.prototxt'\u001b[0m\u001b[0;34m,\u001b[0m \u001b[0mcaffe\u001b[0m\u001b[0;34m.\u001b[0m\u001b[0mTEST\u001b[0m\u001b[0;34m)\u001b[0m\u001b[0;34m\u001b[0m\u001b[0;34m\u001b[0m\u001b[0m\n\u001b[0m\u001b[1;32m      9\u001b[0m \u001b[0;34m\u001b[0m\u001b[0m\n\u001b[1;32m     10\u001b[0m \u001b[0;31m#2351622\u001b[0m\u001b[0;34m\u001b[0m\u001b[0;34m\u001b[0m\u001b[0;34m\u001b[0m\u001b[0m\n",
            "\u001b[0;31mAttributeError\u001b[0m: module 'caffe2' has no attribute 'Net'"
          ]
        }
      ]
    },
    {
      "cell_type": "code",
      "metadata": {
        "colab": {
          "base_uri": "https://localhost:8080/",
          "height": 350
        },
        "id": "3FgujIkcyu5N",
        "outputId": "1955d71d-4041-4068-f7c2-dc22b38639bc"
      },
      "source": [
        ""
      ],
      "execution_count": 1,
      "outputs": [
        {
          "output_type": "error",
          "ename": "ModuleNotFoundError",
          "evalue": "ignored",
          "traceback": [
            "\u001b[0;31m---------------------------------------------------------------------------\u001b[0m",
            "\u001b[0;31mModuleNotFoundError\u001b[0m                       Traceback (most recent call last)",
            "\u001b[0;32m<ipython-input-1-1e07ae46a498>\u001b[0m in \u001b[0;36m<module>\u001b[0;34m()\u001b[0m\n\u001b[0;32m----> 1\u001b[0;31m \u001b[0;32mfrom\u001b[0m \u001b[0mcaffe\u001b[0m \u001b[0;32mimport\u001b[0m \u001b[0mlayers\u001b[0m \u001b[0;32mas\u001b[0m \u001b[0mL\u001b[0m\u001b[0;34m,\u001b[0m \u001b[0mparams\u001b[0m \u001b[0;32mas\u001b[0m \u001b[0mP\u001b[0m\u001b[0;34m\u001b[0m\u001b[0;34m\u001b[0m\u001b[0m\n\u001b[0m\u001b[1;32m      2\u001b[0m \u001b[0;34m\u001b[0m\u001b[0m\n\u001b[1;32m      3\u001b[0m n.data, n.label = L.Data(batch_size=0, backend=P.Data.LMDB, source=lmdb,\n\u001b[1;32m      4\u001b[0m                         transform_param=dict(scale=1./255), ntop=2)\n",
            "\u001b[0;31mModuleNotFoundError\u001b[0m: No module named 'caffe'",
            "",
            "\u001b[0;31m---------------------------------------------------------------------------\u001b[0;32m\nNOTE: If your import is failing due to a missing package, you can\nmanually install dependencies using either !pip or !apt.\n\nTo view examples of installing some common dependencies, click the\n\"Open Examples\" button below.\n\u001b[0;31m---------------------------------------------------------------------------\u001b[0m\n"
          ]
        }
      ]
    }
  ]
}