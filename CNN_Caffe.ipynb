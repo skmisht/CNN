{
  "nbformat": 4,
  "nbformat_minor": 0,
  "metadata": {
    "colab": {
      "name": "CNN_Caffe.ipynb",
      "provenance": [],
      "toc_visible": true,
      "authorship_tag": "ABX9TyNlSRWnIn+z1dABmxTKYokm",
      "include_colab_link": true
    },
    "kernelspec": {
      "name": "python3",
      "display_name": "Python 3"
    }
  },
  "cells": [
    {
      "cell_type": "markdown",
      "metadata": {
        "id": "view-in-github",
        "colab_type": "text"
      },
      "source": [
        "<a href=\"https://colab.research.google.com/github/skmisht/CNN/blob/main/CNN_Caffe.ipynb\" target=\"_parent\"><img src=\"https://colab.research.google.com/assets/colab-badge.svg\" alt=\"Open In Colab\"/></a>"
      ]
    },
    {
      "cell_type": "markdown",
      "metadata": {
        "id": "1JjE0Vxgu2Ah"
      },
      "source": [
        "\r\n",
        "# Melanoma detection using - Caffe"
      ]
    },
    {
      "cell_type": "code",
      "metadata": {
        "id": "0uwaX3Aiu98V",
        "colab": {
          "base_uri": "https://localhost:8080/"
        },
        "outputId": "a7cd7ae3-631c-49f6-ff64-ae3a83f8b287"
      },
      "source": [
        "#Connect google colab to google drive\r\n",
        "from google.colab import drive\r\n",
        "drive.mount('/content/drive')\r\n"
      ],
      "execution_count": 1,
      "outputs": [
        {
          "output_type": "stream",
          "text": [
            "Mounted at /content/drive\n"
          ],
          "name": "stdout"
        }
      ]
    },
    {
      "cell_type": "code",
      "metadata": {
        "id": "6PJcw-lyvv1E",
        "outputId": "a9bd3f65-778c-48dc-dd70-f08859a34be8",
        "colab": {
          "base_uri": "https://localhost:8080/"
        }
      },
      "source": [
        "#install caffe with GPU support\r\n",
        "#!apt install -y caffe-cuda\r\n",
        "#install caffe with CPU support\r\n",
        "!apt install -y caffe-cpu"
      ],
      "execution_count": 1,
      "outputs": [
        {
          "output_type": "stream",
          "text": [
            "Reading package lists... Done\n",
            "Building dependency tree       \n",
            "Reading state information... Done\n",
            "The following packages were automatically installed and are no longer required:\n",
            "  libcublas9.1 libcudart9.1 libcurand9.1\n",
            "Use 'apt autoremove' to remove them.\n",
            "The following additional packages will be installed:\n",
            "  caffe-tools-cpu libcaffe-cpu1 python3-caffe-cpu\n",
            "Suggested packages:\n",
            "  libcaffe-cpu-dev caffe-doc\n",
            "The following packages will be REMOVED:\n",
            "  caffe-cuda caffe-tools-cuda libcaffe-cuda1 python3-caffe-cuda\n",
            "The following NEW packages will be installed:\n",
            "  caffe-cpu caffe-tools-cpu libcaffe-cpu1 python3-caffe-cpu\n",
            "0 upgraded, 4 newly installed, 4 to remove and 10 not upgraded.\n",
            "Need to get 1,596 kB of archives.\n",
            "After this operation, 5,944 kB disk space will be freed.\n",
            "Get:1 http://archive.ubuntu.com/ubuntu bionic/universe amd64 libcaffe-cpu1 amd64 1.0.0-6 [798 kB]\n",
            "Get:2 http://archive.ubuntu.com/ubuntu bionic/universe amd64 caffe-tools-cpu amd64 1.0.0-6 [109 kB]\n",
            "Get:3 http://archive.ubuntu.com/ubuntu bionic/universe amd64 python3-caffe-cpu amd64 1.0.0-6 [685 kB]\n",
            "Get:4 http://archive.ubuntu.com/ubuntu bionic/universe amd64 caffe-cpu amd64 1.0.0-6 [4,548 B]\n",
            "Fetched 1,596 kB in 1s (1,188 kB/s)\n",
            "(Reading database ... 152439 files and directories currently installed.)\n",
            "Removing caffe-cuda (1.0.0-6build1) ...\n",
            "Removing caffe-tools-cuda (1.0.0-6build1) ...\n",
            "Removing python3-caffe-cuda (1.0.0-6build1) ...\n",
            "Removing libcaffe-cuda1:amd64 (1.0.0-6build1) ...\n",
            "Selecting previously unselected package libcaffe-cpu1:amd64.\n",
            "(Reading database ... 152390 files and directories currently installed.)\n",
            "Preparing to unpack .../libcaffe-cpu1_1.0.0-6_amd64.deb ...\n",
            "Unpacking libcaffe-cpu1:amd64 (1.0.0-6) ...\n",
            "Selecting previously unselected package caffe-tools-cpu.\n",
            "Preparing to unpack .../caffe-tools-cpu_1.0.0-6_amd64.deb ...\n",
            "Unpacking caffe-tools-cpu (1.0.0-6) ...\n",
            "Selecting previously unselected package python3-caffe-cpu.\n",
            "Preparing to unpack .../python3-caffe-cpu_1.0.0-6_amd64.deb ...\n",
            "Unpacking python3-caffe-cpu (1.0.0-6) ...\n",
            "Selecting previously unselected package caffe-cpu.\n",
            "Preparing to unpack .../caffe-cpu_1.0.0-6_amd64.deb ...\n",
            "Unpacking caffe-cpu (1.0.0-6) ...\n",
            "Setting up libcaffe-cpu1:amd64 (1.0.0-6) ...\n",
            "Setting up caffe-tools-cpu (1.0.0-6) ...\n",
            "Setting up python3-caffe-cpu (1.0.0-6) ...\n",
            "Setting up caffe-cpu (1.0.0-6) ...\n",
            "Processing triggers for man-db (2.8.3-2ubuntu0.1) ...\n",
            "Processing triggers for libc-bin (2.27-3ubuntu1.4) ...\n",
            "/sbin/ldconfig.real: /usr/local/lib/python3.6/dist-packages/ideep4py/lib/libmkldnn.so.0 is not a symbolic link\n",
            "\n"
          ],
          "name": "stdout"
        }
      ]
    },
    {
      "cell_type": "code",
      "metadata": {
        "colab": {
          "base_uri": "https://localhost:8080/"
        },
        "id": "AgIG-HGHoXp5",
        "outputId": "256ab6e4-ec57-4e8b-a8bc-0d88db0e8130"
      },
      "source": [
        "import pandas as pd \r\n",
        "\r\n",
        "training_truth_data = pd.read_csv('/content/drive/MyDrive/isic-challenge-2017/ISIC-2017_Training_Part3_GroundTruth.csv') \r\n",
        "testing_truth_data = pd.read_csv('/content/drive/MyDrive/isic-challenge-2017/ISIC-2017_Test_v2_Part3_GroundTruth.csv') \r\n",
        "\r\n",
        "training_metadata = pd.read_csv('/content/drive/MyDrive/isic-challenge-2017/ISIC-2017_Training_Data/ISIC-2017_Training_Data/ISIC-2017_Training_Data_metadata.csv')\r\n",
        "testing_metadata = pd.read_csv('/content/drive/MyDrive/isic-challenge-2017/ISIC-2017_Test_v2_Data/ISIC-2017_Test_v2_Data/ISIC-2017_Test_v2_Data_metadata.csv')\r\n",
        "\r\n",
        "path_training_images ='/content/drive/MyDrive/isic-challenge-2017/ISIC-2017_Training_Data/ISIC-2017_Training_Data/'\r\n",
        "path_testing_images ='/content/drive/MyDrive/isic-challenge-2017/ISIC-2017_Test_v2_Data/ISIC-2017_Test_v2_Data/'\r\n",
        "\r\n",
        "\r\n",
        "#add new column to training_truth_data witht he path to corresponding image\r\n",
        "path_to_training_images_array = []\r\n",
        "for x in training_truth_data.values:\r\n",
        "    path_to_image = path_training_images + x[0] +'.jpg'\r\n",
        "    path_to_training_images_array.append(path_to_image)\r\n",
        "#add path to image to the training data frame\r\n",
        "training_truth_data['path_to_image'] = path_to_training_images_array\r\n",
        "#merge training truth data with metadata, join on the image_id's\r\n",
        "training_data = pd.merge(training_truth_data, training_metadata, left_on='image_id', right_on='image_id', how='left').drop('image_id', axis=1)\r\n",
        "\r\n",
        "#add new column to test_truth_data witht he path to corresponding image\r\n",
        "path_to_test_images_array = []\r\n",
        "for x in testing_truth_data.values:\r\n",
        "  path_to_image = path_testing_images + str(x[0])+'.jpg'\r\n",
        "  path_to_test_images_array.append(path_to_image)\r\n",
        "#add path to image to the testing data frame\r\n",
        "testing_truth_data['path_to_image'] = path_to_test_images_array\r\n",
        "#merge testing truth data with metadata, join on the image_id's\r\n",
        "testing_data = pd.merge(testing_truth_data, testing_metadata, left_on='image_id', right_on='image_id', how='left').drop('image_id', axis=1)\r\n",
        "\r\n",
        "\r\n",
        "print(training_data.isnull().sum())\r\n",
        "print(testing_data.isnull().sum())\r\n",
        "\r\n"
      ],
      "execution_count": 35,
      "outputs": [
        {
          "output_type": "stream",
          "text": [
            "melanoma                0\n",
            "seborrheic_keratosis    0\n",
            "path_to_image           0\n",
            "age_approximate         0\n",
            "sex                     0\n",
            "dtype: int64\n",
            "melanoma                0\n",
            "seborrheic_keratosis    0\n",
            "path_to_image           0\n",
            "age_approximate         0\n",
            "sex                     0\n",
            "dtype: int64\n"
          ],
          "name": "stdout"
        }
      ]
    },
    {
      "cell_type": "code",
      "metadata": {
        "id": "vAbnjUYNxK7N",
        "outputId": "dd62e342-631c-444e-aa77-508e36446708",
        "colab": {
          "base_uri": "https://localhost:8080/",
          "height": 571
        }
      },
      "source": [
        "import numpy as np\r\n",
        "import matplotlib.pyplot as plt\r\n",
        "from PIL import Image\r\n",
        "import caffe\r\n",
        "\r\n",
        "#set mode to use GPU\r\n",
        "caffe.set_mode_cpu()\r\n",
        "\r\n",
        "#load network architecture\r\n",
        "net = caffe.Net('/content/drive/MyDrive/Caffe/cnn_model.prototxt', caffe.TEST)\r\n",
        "\r\n",
        "#2351622\r\n",
        "input = None\r\n",
        "for x in training_data.values:\r\n",
        "  im = np.array(Image.open(x[2]))\r\n",
        "  im_input = im[np.newaxis, np.newaxis, :, :]\r\n",
        "  print(x[2] +'  '+str(im_input.size))\r\n",
        "  if (input is None):\r\n",
        "    input = im_input\r\n",
        "  else:\r\n",
        "    input = np.concatenate((input, im_input))\r\n",
        "\r\n",
        "net.blobs['data'].reshape(*input.shape)\r\n",
        "net.blobs['data'].data[...] = input\r\n",
        "\r\n",
        "net.save('/content/drive/MyDrive/Caffe/melanoma_cnn.caffemodel')\r\n",
        "\r\n"
      ],
      "execution_count": 27,
      "outputs": [
        {
          "output_type": "stream",
          "text": [
            "/content/drive/MyDrive/isic-challenge-2017/ISIC-2017_Training_Data/ISIC-2017_Training_Data/ISIC_0000000.jpg  2351622\n",
            "/content/drive/MyDrive/isic-challenge-2017/ISIC-2017_Training_Data/ISIC-2017_Training_Data/ISIC_0000001.jpg  2351622\n",
            "/content/drive/MyDrive/isic-challenge-2017/ISIC-2017_Training_Data/ISIC-2017_Training_Data/ISIC_0000002.jpg  2351622\n",
            "/content/drive/MyDrive/isic-challenge-2017/ISIC-2017_Training_Data/ISIC-2017_Training_Data/ISIC_0000003.jpg  2351622\n",
            "/content/drive/MyDrive/isic-challenge-2017/ISIC-2017_Training_Data/ISIC-2017_Training_Data/ISIC_0000004.jpg  2351622\n",
            "/content/drive/MyDrive/isic-challenge-2017/ISIC-2017_Training_Data/ISIC-2017_Training_Data/ISIC_0000006.jpg  2351622\n",
            "/content/drive/MyDrive/isic-challenge-2017/ISIC-2017_Training_Data/ISIC-2017_Training_Data/ISIC_0000007.jpg  2351622\n",
            "/content/drive/MyDrive/isic-challenge-2017/ISIC-2017_Training_Data/ISIC-2017_Training_Data/ISIC_0000008.jpg  2351622\n",
            "/content/drive/MyDrive/isic-challenge-2017/ISIC-2017_Training_Data/ISIC-2017_Training_Data/ISIC_0000009.jpg  2351622\n",
            "/content/drive/MyDrive/isic-challenge-2017/ISIC-2017_Training_Data/ISIC-2017_Training_Data/ISIC_0000010.jpg  2351622\n",
            "/content/drive/MyDrive/isic-challenge-2017/ISIC-2017_Training_Data/ISIC-2017_Training_Data/ISIC_0000011.jpg  2351622\n",
            "/content/drive/MyDrive/isic-challenge-2017/ISIC-2017_Training_Data/ISIC-2017_Training_Data/ISIC_0000012.jpg  2351622\n",
            "/content/drive/MyDrive/isic-challenge-2017/ISIC-2017_Training_Data/ISIC-2017_Training_Data/ISIC_0000013.jpg  2351622\n",
            "/content/drive/MyDrive/isic-challenge-2017/ISIC-2017_Training_Data/ISIC-2017_Training_Data/ISIC_0000014.jpg  2351622\n",
            "/content/drive/MyDrive/isic-challenge-2017/ISIC-2017_Training_Data/ISIC-2017_Training_Data/ISIC_0000015.jpg  2351622\n",
            "/content/drive/MyDrive/isic-challenge-2017/ISIC-2017_Training_Data/ISIC-2017_Training_Data/ISIC_0000016.jpg  2351622\n",
            "/content/drive/MyDrive/isic-challenge-2017/ISIC-2017_Training_Data/ISIC-2017_Training_Data/ISIC_0000017.jpg  5094048\n"
          ],
          "name": "stdout"
        },
        {
          "output_type": "error",
          "ename": "ValueError",
          "evalue": "ignored",
          "traceback": [
            "\u001b[0;31m---------------------------------------------------------------------------\u001b[0m",
            "\u001b[0;31mValueError\u001b[0m                                Traceback (most recent call last)",
            "\u001b[0;32m<ipython-input-27-bf3b978a6bfd>\u001b[0m in \u001b[0;36m<module>\u001b[0;34m()\u001b[0m\n\u001b[1;32m     19\u001b[0m     \u001b[0minput\u001b[0m \u001b[0;34m=\u001b[0m \u001b[0mim_input\u001b[0m\u001b[0;34m\u001b[0m\u001b[0;34m\u001b[0m\u001b[0m\n\u001b[1;32m     20\u001b[0m   \u001b[0;32melse\u001b[0m\u001b[0;34m:\u001b[0m\u001b[0;34m\u001b[0m\u001b[0;34m\u001b[0m\u001b[0m\n\u001b[0;32m---> 21\u001b[0;31m     \u001b[0minput\u001b[0m \u001b[0;34m=\u001b[0m \u001b[0mnp\u001b[0m\u001b[0;34m.\u001b[0m\u001b[0mconcatenate\u001b[0m\u001b[0;34m(\u001b[0m\u001b[0;34m(\u001b[0m\u001b[0minput\u001b[0m\u001b[0;34m,\u001b[0m \u001b[0mim_input\u001b[0m\u001b[0;34m)\u001b[0m\u001b[0;34m)\u001b[0m\u001b[0;34m\u001b[0m\u001b[0;34m\u001b[0m\u001b[0m\n\u001b[0m\u001b[1;32m     22\u001b[0m \u001b[0;34m\u001b[0m\u001b[0m\n\u001b[1;32m     23\u001b[0m \u001b[0mnet\u001b[0m\u001b[0;34m.\u001b[0m\u001b[0mblobs\u001b[0m\u001b[0;34m[\u001b[0m\u001b[0;34m'data'\u001b[0m\u001b[0;34m]\u001b[0m\u001b[0;34m.\u001b[0m\u001b[0mreshape\u001b[0m\u001b[0;34m(\u001b[0m\u001b[0;34m*\u001b[0m\u001b[0minput\u001b[0m\u001b[0;34m.\u001b[0m\u001b[0mshape\u001b[0m\u001b[0;34m)\u001b[0m\u001b[0;34m\u001b[0m\u001b[0;34m\u001b[0m\u001b[0m\n",
            "\u001b[0;32m<__array_function__ internals>\u001b[0m in \u001b[0;36mconcatenate\u001b[0;34m(*args, **kwargs)\u001b[0m\n",
            "\u001b[0;31mValueError\u001b[0m: all the input array dimensions for the concatenation axis must match exactly, but along dimension 2, the array at index 0 has size 767 and the array at index 1 has size 1129"
          ]
        }
      ]
    },
    {
      "cell_type": "code",
      "metadata": {
        "id": "3FgujIkcyu5N"
      },
      "source": [
        ""
      ],
      "execution_count": null,
      "outputs": []
    }
  ]
}