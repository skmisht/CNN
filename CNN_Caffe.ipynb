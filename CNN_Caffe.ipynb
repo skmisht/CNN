{
  "nbformat": 4,
  "nbformat_minor": 0,
  "metadata": {
    "colab": {
      "name": "CNN_Caffe.ipynb",
      "provenance": [],
      "toc_visible": true,
      "authorship_tag": "ABX9TyMBdnTLSQobxKwV5xmQuldk",
      "include_colab_link": true
    },
    "kernelspec": {
      "name": "python3",
      "display_name": "Python 3"
    }
  },
  "cells": [
    {
      "cell_type": "markdown",
      "metadata": {
        "id": "view-in-github",
        "colab_type": "text"
      },
      "source": [
        "<a href=\"https://colab.research.google.com/github/skmisht/CNN/blob/main/CNN_Caffe.ipynb\" target=\"_parent\"><img src=\"https://colab.research.google.com/assets/colab-badge.svg\" alt=\"Open In Colab\"/></a>"
      ]
    },
    {
      "cell_type": "markdown",
      "metadata": {
        "id": "1JjE0Vxgu2Ah"
      },
      "source": [
        "\r\n",
        "# Melanoma detection using - Caffe"
      ]
    },
    {
      "cell_type": "code",
      "metadata": {
        "id": "0uwaX3Aiu98V",
        "colab": {
          "base_uri": "https://localhost:8080/"
        },
        "outputId": "a7cd7ae3-631c-49f6-ff64-ae3a83f8b287"
      },
      "source": [
        "#Connect google colab to google drive\r\n",
        "from google.colab import drive\r\n",
        "drive.mount('/content/drive')\r\n"
      ],
      "execution_count": 1,
      "outputs": [
        {
          "output_type": "stream",
          "text": [
            "Mounted at /content/drive\n"
          ],
          "name": "stdout"
        }
      ]
    },
    {
      "cell_type": "code",
      "metadata": {
        "colab": {
          "base_uri": "https://localhost:8080/"
        },
        "id": "AgIG-HGHoXp5",
        "outputId": "6d30e94d-706a-49aa-c0cc-7cdc670ffc2f"
      },
      "source": [
        "import pandas as pd \r\n",
        "\r\n",
        "training_truth_data = pd.read_csv('/content/drive/MyDrive/isic-challenge-2017/ISIC-2017_Training_Part3_GroundTruth.csv') \r\n",
        "testing_truth_data = pd.read_csv('/content/drive/MyDrive/isic-challenge-2017/ISIC-2017_Test_v2_Part3_GroundTruth.csv') \r\n",
        "\r\n",
        "training_metadata = pd.read_csv('/content/drive/MyDrive/isic-challenge-2017/ISIC-2017_Training_Data/ISIC-2017_Training_Data/ISIC-2017_Training_Data_metadata.csv')\r\n",
        "testing_metadata = pd.read_csv('/content/drive/MyDrive/isic-challenge-2017/ISIC-2017_Test_v2_Data/ISIC-2017_Test_v2_Data/ISIC-2017_Test_v2_Data_metadata.csv')\r\n",
        "\r\n",
        "path_training_images ='/content/drive/MyDrive/isic-challenge-2017/ISIC-2017_Training_Data/ISIC-2017_Training_Data/'\r\n",
        "path_testing_images ='/content/drive/MyDrive/isic-challenge-2017/ISIC-2017_Test_v2_Data/ISIC-2017_Test_v2_Data/'\r\n",
        "\r\n",
        "\r\n",
        "#add new column to training_truth_data witht he path to corresponding image\r\n",
        "path_to_training_images_array = []\r\n",
        "for x in training_truth_data.values:\r\n",
        "    path_to_image = path_training_images + x[0] +'.jpg'\r\n",
        "    path_to_training_images_array.append(path_to_image)\r\n",
        "#add path to image to the training data frame\r\n",
        "training_truth_data['path_to_image'] = path_to_training_images_array\r\n",
        "#merge training truth data with metadata, join on the image_id's\r\n",
        "training_data = pd.merge(training_truth_data, training_metadata, left_on='image_id', right_on='image_id', how='left').drop('image_id', axis=1)\r\n",
        "\r\n",
        "#add new column to test_truth_data witht he path to corresponding image\r\n",
        "path_to_test_images_array = []\r\n",
        "for x in testing_truth_data.values:\r\n",
        "  path_to_image = path_testing_images + str(x[0])+'.jpg'\r\n",
        "  path_to_test_images_array.append(path_to_image)\r\n",
        "#add path to image to the testing data frame\r\n",
        "testing_truth_data['path_to_image'] = path_to_test_images_array\r\n",
        "#merge testing truth data with metadata, join on the image_id's\r\n",
        "testing_data = pd.merge(testing_truth_data, testing_metadata, left_on='image_id', right_on='image_id', how='left').drop('image_id', axis=1)\r\n",
        "\r\n",
        "\r\n",
        "print(training_data.head())\r\n",
        "print(testing_data.head())\r\n",
        "\r\n"
      ],
      "execution_count": 2,
      "outputs": [
        {
          "output_type": "stream",
          "text": [
            "   melanoma  seborrheic_keratosis  ... age_approximate     sex\n",
            "0       0.0                   0.0  ...              55  female\n",
            "1       0.0                   0.0  ...              30  female\n",
            "2       1.0                   0.0  ...              60  female\n",
            "3       0.0                   0.0  ...              30    male\n",
            "4       1.0                   0.0  ...              80    male\n",
            "\n",
            "[5 rows x 5 columns]\n",
            "   melanoma  seborrheic_keratosis  ... age_approximate     sex\n",
            "0       0.0                   1.0  ...              30    male\n",
            "1       0.0                   0.0  ...              40    male\n",
            "2       0.0                   0.0  ...              25    male\n",
            "3       0.0                   1.0  ...              75  female\n",
            "4       0.0                   1.0  ...              70    male\n",
            "\n",
            "[5 rows x 5 columns]\n"
          ],
          "name": "stdout"
        }
      ]
    }
  ]
}